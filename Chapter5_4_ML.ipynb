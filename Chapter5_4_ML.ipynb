{
  "nbformat": 4,
  "nbformat_minor": 0,
  "metadata": {
    "colab": {
      "provenance": [],
      "gpuType": "T4",
      "mount_file_id": "1B4eUcBvnpBl9n8UBPsRL_Hg7WWI9U1_u",
      "authorship_tag": "ABX9TyOhf+4O3akArpBudyofSSlP",
      "include_colab_link": true
    },
    "kernelspec": {
      "name": "python3",
      "display_name": "Python 3"
    },
    "language_info": {
      "name": "python"
    },
    "accelerator": "GPU"
  },
  "cells": [
    {
      "cell_type": "markdown",
      "metadata": {
        "id": "view-in-github",
        "colab_type": "text"
      },
      "source": [
        "<a href=\"https://colab.research.google.com/github/ProdKEYMON/Data_keymon/blob/main/Chapter5_4_ML.ipynb\" target=\"_parent\"><img src=\"https://colab.research.google.com/assets/colab-badge.svg\" alt=\"Open In Colab\"/></a>"
      ]
    },
    {
      "cell_type": "code",
      "execution_count": 1,
      "metadata": {
        "colab": {
          "base_uri": "https://localhost:8080/"
        },
        "id": "j3Tf__oge_Sn",
        "outputId": "08bd265d-3ba8-480a-dfa3-67e9ed834687"
      },
      "outputs": [
        {
          "output_type": "stream",
          "name": "stdout",
          "text": [
            "/content/drive/MyDrive/Colab Notebooks/Class 101/ML\n"
          ]
        }
      ],
      "source": [
        "cd /content/drive/MyDrive/Colab Notebooks/Class 101/ML"
      ]
    },
    {
      "cell_type": "code",
      "source": [
        "import pandas as pd\n",
        "import numpy as np\n",
        "import matplotlib.pyplot as plt\n",
        "import seaborn as sns"
      ],
      "metadata": {
        "id": "Z43i8dLafASD"
      },
      "execution_count": 2,
      "outputs": []
    },
    {
      "cell_type": "code",
      "source": [
        "pd.read_csv('/content/drive/MyDrive/Colab Notebooks/Class 101/datas/Data02.csv', encoding = 'cp949')"
      ],
      "metadata": {
        "colab": {
          "base_uri": "https://localhost:8080/",
          "height": 614
        },
        "id": "Vikt6R1vfGi5",
        "outputId": "ae6fd659-1195-41e6-c293-d3281a943124"
      },
      "execution_count": 3,
      "outputs": [
        {
          "output_type": "execute_result",
          "data": {
            "text/plain": [
              "       Unnamed: 0        id type_of_contract type_of_contract2 channel  \\\n",
              "0               0  66758234               렌탈            Normal  서비스 방문   \n",
              "1               1  66755948               렌탈  Extension_Rental  서비스 방문   \n",
              "2               2  66756657               렌탈            Normal  홈쇼핑/방송   \n",
              "3               3  66423450              멤버십               TAS   렌탈재계약   \n",
              "4               4  66423204              멤버십               TAS   렌탈재계약   \n",
              "...           ...       ...              ...               ...     ...   \n",
              "51299       51299  66579515              NaN         Promotion   R관리방판   \n",
              "51300       51300  66799558               렌탈            Normal    영업방판   \n",
              "51301       51301  66799197               렌탈         Promotion  홈쇼핑/방송   \n",
              "51302       51302  66792778              NaN            Normal    렌탈총판   \n",
              "51303       51303  66799607               렌탈            Normal    하이마트   \n",
              "\n",
              "         datetime  Term payment_type product  amount state  overdue_count  \\\n",
              "0      2019-10-20    60          CMS      K1   96900  계약확정              0   \n",
              "1      2019-10-20    60         카드이체      K1  102900  계약확정              0   \n",
              "2      2019-10-20    60          CMS      K1   96900  계약확정              0   \n",
              "3      2019-10-20    12          CMS      K1   66900  계약확정              0   \n",
              "4      2019-10-20    12          CMS      K1   66900  해약확정             12   \n",
              "...           ...   ...          ...     ...     ...   ...            ...   \n",
              "51299  2020-02-03    60          무통장      K3   96900  계약확정              0   \n",
              "51300  2020-02-03    60         카드이체      K1   96900  해약확정              0   \n",
              "51301  2020-02-03    39          무통장      K5  120900  해약확정              0   \n",
              "51302  2020-02-03    60         카드이체      K1   96900  계약확정              0   \n",
              "51303  2020-02-03    60          CMS      K1   96900  해약확정              0   \n",
              "\n",
              "      overdue  credit rating   bank cancellation   age  Mileage  \n",
              "0          없음            9.0  새마을금고           정상  43.0   1862.0  \n",
              "1          없음            2.0   현대카드           정상  62.0   2532.0  \n",
              "2          없음            8.0   우리은행           정상  60.0   2363.0  \n",
              "3          없음            5.0   농협은행           정상  60.0   2449.0  \n",
              "4          있음            8.0   농협은행           해약  51.0   1942.0  \n",
              "...       ...            ...    ...          ...   ...      ...  \n",
              "51299      없음            NaN   롯데카드           정상   NaN      NaN  \n",
              "51300      없음            8.0   롯데카드           해약  39.0   1753.0  \n",
              "51301      없음            1.0    NaN           해약  51.0   2217.0  \n",
              "51302      없음            2.0   신한카드           정상  64.0   2588.0  \n",
              "51303      없음            8.0   농협은행           해약  53.0   2130.0  \n",
              "\n",
              "[51304 rows x 18 columns]"
            ],
            "text/html": [
              "\n",
              "  <div id=\"df-ea7de0f4-91b0-4659-ae41-a9479f843881\" class=\"colab-df-container\">\n",
              "    <div>\n",
              "<style scoped>\n",
              "    .dataframe tbody tr th:only-of-type {\n",
              "        vertical-align: middle;\n",
              "    }\n",
              "\n",
              "    .dataframe tbody tr th {\n",
              "        vertical-align: top;\n",
              "    }\n",
              "\n",
              "    .dataframe thead th {\n",
              "        text-align: right;\n",
              "    }\n",
              "</style>\n",
              "<table border=\"1\" class=\"dataframe\">\n",
              "  <thead>\n",
              "    <tr style=\"text-align: right;\">\n",
              "      <th></th>\n",
              "      <th>Unnamed: 0</th>\n",
              "      <th>id</th>\n",
              "      <th>type_of_contract</th>\n",
              "      <th>type_of_contract2</th>\n",
              "      <th>channel</th>\n",
              "      <th>datetime</th>\n",
              "      <th>Term</th>\n",
              "      <th>payment_type</th>\n",
              "      <th>product</th>\n",
              "      <th>amount</th>\n",
              "      <th>state</th>\n",
              "      <th>overdue_count</th>\n",
              "      <th>overdue</th>\n",
              "      <th>credit rating</th>\n",
              "      <th>bank</th>\n",
              "      <th>cancellation</th>\n",
              "      <th>age</th>\n",
              "      <th>Mileage</th>\n",
              "    </tr>\n",
              "  </thead>\n",
              "  <tbody>\n",
              "    <tr>\n",
              "      <th>0</th>\n",
              "      <td>0</td>\n",
              "      <td>66758234</td>\n",
              "      <td>렌탈</td>\n",
              "      <td>Normal</td>\n",
              "      <td>서비스 방문</td>\n",
              "      <td>2019-10-20</td>\n",
              "      <td>60</td>\n",
              "      <td>CMS</td>\n",
              "      <td>K1</td>\n",
              "      <td>96900</td>\n",
              "      <td>계약확정</td>\n",
              "      <td>0</td>\n",
              "      <td>없음</td>\n",
              "      <td>9.0</td>\n",
              "      <td>새마을금고</td>\n",
              "      <td>정상</td>\n",
              "      <td>43.0</td>\n",
              "      <td>1862.0</td>\n",
              "    </tr>\n",
              "    <tr>\n",
              "      <th>1</th>\n",
              "      <td>1</td>\n",
              "      <td>66755948</td>\n",
              "      <td>렌탈</td>\n",
              "      <td>Extension_Rental</td>\n",
              "      <td>서비스 방문</td>\n",
              "      <td>2019-10-20</td>\n",
              "      <td>60</td>\n",
              "      <td>카드이체</td>\n",
              "      <td>K1</td>\n",
              "      <td>102900</td>\n",
              "      <td>계약확정</td>\n",
              "      <td>0</td>\n",
              "      <td>없음</td>\n",
              "      <td>2.0</td>\n",
              "      <td>현대카드</td>\n",
              "      <td>정상</td>\n",
              "      <td>62.0</td>\n",
              "      <td>2532.0</td>\n",
              "    </tr>\n",
              "    <tr>\n",
              "      <th>2</th>\n",
              "      <td>2</td>\n",
              "      <td>66756657</td>\n",
              "      <td>렌탈</td>\n",
              "      <td>Normal</td>\n",
              "      <td>홈쇼핑/방송</td>\n",
              "      <td>2019-10-20</td>\n",
              "      <td>60</td>\n",
              "      <td>CMS</td>\n",
              "      <td>K1</td>\n",
              "      <td>96900</td>\n",
              "      <td>계약확정</td>\n",
              "      <td>0</td>\n",
              "      <td>없음</td>\n",
              "      <td>8.0</td>\n",
              "      <td>우리은행</td>\n",
              "      <td>정상</td>\n",
              "      <td>60.0</td>\n",
              "      <td>2363.0</td>\n",
              "    </tr>\n",
              "    <tr>\n",
              "      <th>3</th>\n",
              "      <td>3</td>\n",
              "      <td>66423450</td>\n",
              "      <td>멤버십</td>\n",
              "      <td>TAS</td>\n",
              "      <td>렌탈재계약</td>\n",
              "      <td>2019-10-20</td>\n",
              "      <td>12</td>\n",
              "      <td>CMS</td>\n",
              "      <td>K1</td>\n",
              "      <td>66900</td>\n",
              "      <td>계약확정</td>\n",
              "      <td>0</td>\n",
              "      <td>없음</td>\n",
              "      <td>5.0</td>\n",
              "      <td>농협은행</td>\n",
              "      <td>정상</td>\n",
              "      <td>60.0</td>\n",
              "      <td>2449.0</td>\n",
              "    </tr>\n",
              "    <tr>\n",
              "      <th>4</th>\n",
              "      <td>4</td>\n",
              "      <td>66423204</td>\n",
              "      <td>멤버십</td>\n",
              "      <td>TAS</td>\n",
              "      <td>렌탈재계약</td>\n",
              "      <td>2019-10-20</td>\n",
              "      <td>12</td>\n",
              "      <td>CMS</td>\n",
              "      <td>K1</td>\n",
              "      <td>66900</td>\n",
              "      <td>해약확정</td>\n",
              "      <td>12</td>\n",
              "      <td>있음</td>\n",
              "      <td>8.0</td>\n",
              "      <td>농협은행</td>\n",
              "      <td>해약</td>\n",
              "      <td>51.0</td>\n",
              "      <td>1942.0</td>\n",
              "    </tr>\n",
              "    <tr>\n",
              "      <th>...</th>\n",
              "      <td>...</td>\n",
              "      <td>...</td>\n",
              "      <td>...</td>\n",
              "      <td>...</td>\n",
              "      <td>...</td>\n",
              "      <td>...</td>\n",
              "      <td>...</td>\n",
              "      <td>...</td>\n",
              "      <td>...</td>\n",
              "      <td>...</td>\n",
              "      <td>...</td>\n",
              "      <td>...</td>\n",
              "      <td>...</td>\n",
              "      <td>...</td>\n",
              "      <td>...</td>\n",
              "      <td>...</td>\n",
              "      <td>...</td>\n",
              "      <td>...</td>\n",
              "    </tr>\n",
              "    <tr>\n",
              "      <th>51299</th>\n",
              "      <td>51299</td>\n",
              "      <td>66579515</td>\n",
              "      <td>NaN</td>\n",
              "      <td>Promotion</td>\n",
              "      <td>R관리방판</td>\n",
              "      <td>2020-02-03</td>\n",
              "      <td>60</td>\n",
              "      <td>무통장</td>\n",
              "      <td>K3</td>\n",
              "      <td>96900</td>\n",
              "      <td>계약확정</td>\n",
              "      <td>0</td>\n",
              "      <td>없음</td>\n",
              "      <td>NaN</td>\n",
              "      <td>롯데카드</td>\n",
              "      <td>정상</td>\n",
              "      <td>NaN</td>\n",
              "      <td>NaN</td>\n",
              "    </tr>\n",
              "    <tr>\n",
              "      <th>51300</th>\n",
              "      <td>51300</td>\n",
              "      <td>66799558</td>\n",
              "      <td>렌탈</td>\n",
              "      <td>Normal</td>\n",
              "      <td>영업방판</td>\n",
              "      <td>2020-02-03</td>\n",
              "      <td>60</td>\n",
              "      <td>카드이체</td>\n",
              "      <td>K1</td>\n",
              "      <td>96900</td>\n",
              "      <td>해약확정</td>\n",
              "      <td>0</td>\n",
              "      <td>없음</td>\n",
              "      <td>8.0</td>\n",
              "      <td>롯데카드</td>\n",
              "      <td>해약</td>\n",
              "      <td>39.0</td>\n",
              "      <td>1753.0</td>\n",
              "    </tr>\n",
              "    <tr>\n",
              "      <th>51301</th>\n",
              "      <td>51301</td>\n",
              "      <td>66799197</td>\n",
              "      <td>렌탈</td>\n",
              "      <td>Promotion</td>\n",
              "      <td>홈쇼핑/방송</td>\n",
              "      <td>2020-02-03</td>\n",
              "      <td>39</td>\n",
              "      <td>무통장</td>\n",
              "      <td>K5</td>\n",
              "      <td>120900</td>\n",
              "      <td>해약확정</td>\n",
              "      <td>0</td>\n",
              "      <td>없음</td>\n",
              "      <td>1.0</td>\n",
              "      <td>NaN</td>\n",
              "      <td>해약</td>\n",
              "      <td>51.0</td>\n",
              "      <td>2217.0</td>\n",
              "    </tr>\n",
              "    <tr>\n",
              "      <th>51302</th>\n",
              "      <td>51302</td>\n",
              "      <td>66792778</td>\n",
              "      <td>NaN</td>\n",
              "      <td>Normal</td>\n",
              "      <td>렌탈총판</td>\n",
              "      <td>2020-02-03</td>\n",
              "      <td>60</td>\n",
              "      <td>카드이체</td>\n",
              "      <td>K1</td>\n",
              "      <td>96900</td>\n",
              "      <td>계약확정</td>\n",
              "      <td>0</td>\n",
              "      <td>없음</td>\n",
              "      <td>2.0</td>\n",
              "      <td>신한카드</td>\n",
              "      <td>정상</td>\n",
              "      <td>64.0</td>\n",
              "      <td>2588.0</td>\n",
              "    </tr>\n",
              "    <tr>\n",
              "      <th>51303</th>\n",
              "      <td>51303</td>\n",
              "      <td>66799607</td>\n",
              "      <td>렌탈</td>\n",
              "      <td>Normal</td>\n",
              "      <td>하이마트</td>\n",
              "      <td>2020-02-03</td>\n",
              "      <td>60</td>\n",
              "      <td>CMS</td>\n",
              "      <td>K1</td>\n",
              "      <td>96900</td>\n",
              "      <td>해약확정</td>\n",
              "      <td>0</td>\n",
              "      <td>없음</td>\n",
              "      <td>8.0</td>\n",
              "      <td>농협은행</td>\n",
              "      <td>해약</td>\n",
              "      <td>53.0</td>\n",
              "      <td>2130.0</td>\n",
              "    </tr>\n",
              "  </tbody>\n",
              "</table>\n",
              "<p>51304 rows × 18 columns</p>\n",
              "</div>\n",
              "    <div class=\"colab-df-buttons\">\n",
              "\n",
              "  <div class=\"colab-df-container\">\n",
              "    <button class=\"colab-df-convert\" onclick=\"convertToInteractive('df-ea7de0f4-91b0-4659-ae41-a9479f843881')\"\n",
              "            title=\"Convert this dataframe to an interactive table.\"\n",
              "            style=\"display:none;\">\n",
              "\n",
              "  <svg xmlns=\"http://www.w3.org/2000/svg\" height=\"24px\" viewBox=\"0 -960 960 960\">\n",
              "    <path d=\"M120-120v-720h720v720H120Zm60-500h600v-160H180v160Zm220 220h160v-160H400v160Zm0 220h160v-160H400v160ZM180-400h160v-160H180v160Zm440 0h160v-160H620v160ZM180-180h160v-160H180v160Zm440 0h160v-160H620v160Z\"/>\n",
              "  </svg>\n",
              "    </button>\n",
              "\n",
              "  <style>\n",
              "    .colab-df-container {\n",
              "      display:flex;\n",
              "      gap: 12px;\n",
              "    }\n",
              "\n",
              "    .colab-df-convert {\n",
              "      background-color: #E8F0FE;\n",
              "      border: none;\n",
              "      border-radius: 50%;\n",
              "      cursor: pointer;\n",
              "      display: none;\n",
              "      fill: #1967D2;\n",
              "      height: 32px;\n",
              "      padding: 0 0 0 0;\n",
              "      width: 32px;\n",
              "    }\n",
              "\n",
              "    .colab-df-convert:hover {\n",
              "      background-color: #E2EBFA;\n",
              "      box-shadow: 0px 1px 2px rgba(60, 64, 67, 0.3), 0px 1px 3px 1px rgba(60, 64, 67, 0.15);\n",
              "      fill: #174EA6;\n",
              "    }\n",
              "\n",
              "    .colab-df-buttons div {\n",
              "      margin-bottom: 4px;\n",
              "    }\n",
              "\n",
              "    [theme=dark] .colab-df-convert {\n",
              "      background-color: #3B4455;\n",
              "      fill: #D2E3FC;\n",
              "    }\n",
              "\n",
              "    [theme=dark] .colab-df-convert:hover {\n",
              "      background-color: #434B5C;\n",
              "      box-shadow: 0px 1px 3px 1px rgba(0, 0, 0, 0.15);\n",
              "      filter: drop-shadow(0px 1px 2px rgba(0, 0, 0, 0.3));\n",
              "      fill: #FFFFFF;\n",
              "    }\n",
              "  </style>\n",
              "\n",
              "    <script>\n",
              "      const buttonEl =\n",
              "        document.querySelector('#df-ea7de0f4-91b0-4659-ae41-a9479f843881 button.colab-df-convert');\n",
              "      buttonEl.style.display =\n",
              "        google.colab.kernel.accessAllowed ? 'block' : 'none';\n",
              "\n",
              "      async function convertToInteractive(key) {\n",
              "        const element = document.querySelector('#df-ea7de0f4-91b0-4659-ae41-a9479f843881');\n",
              "        const dataTable =\n",
              "          await google.colab.kernel.invokeFunction('convertToInteractive',\n",
              "                                                    [key], {});\n",
              "        if (!dataTable) return;\n",
              "\n",
              "        const docLinkHtml = 'Like what you see? Visit the ' +\n",
              "          '<a target=\"_blank\" href=https://colab.research.google.com/notebooks/data_table.ipynb>data table notebook</a>'\n",
              "          + ' to learn more about interactive tables.';\n",
              "        element.innerHTML = '';\n",
              "        dataTable['output_type'] = 'display_data';\n",
              "        await google.colab.output.renderOutput(dataTable, element);\n",
              "        const docLink = document.createElement('div');\n",
              "        docLink.innerHTML = docLinkHtml;\n",
              "        element.appendChild(docLink);\n",
              "      }\n",
              "    </script>\n",
              "  </div>\n",
              "\n",
              "\n",
              "<div id=\"df-a545466e-73cb-459d-a64d-951c83e94a34\">\n",
              "  <button class=\"colab-df-quickchart\" onclick=\"quickchart('df-a545466e-73cb-459d-a64d-951c83e94a34')\"\n",
              "            title=\"Suggest charts\"\n",
              "            style=\"display:none;\">\n",
              "\n",
              "<svg xmlns=\"http://www.w3.org/2000/svg\" height=\"24px\"viewBox=\"0 0 24 24\"\n",
              "     width=\"24px\">\n",
              "    <g>\n",
              "        <path d=\"M19 3H5c-1.1 0-2 .9-2 2v14c0 1.1.9 2 2 2h14c1.1 0 2-.9 2-2V5c0-1.1-.9-2-2-2zM9 17H7v-7h2v7zm4 0h-2V7h2v10zm4 0h-2v-4h2v4z\"/>\n",
              "    </g>\n",
              "</svg>\n",
              "  </button>\n",
              "\n",
              "<style>\n",
              "  .colab-df-quickchart {\n",
              "      --bg-color: #E8F0FE;\n",
              "      --fill-color: #1967D2;\n",
              "      --hover-bg-color: #E2EBFA;\n",
              "      --hover-fill-color: #174EA6;\n",
              "      --disabled-fill-color: #AAA;\n",
              "      --disabled-bg-color: #DDD;\n",
              "  }\n",
              "\n",
              "  [theme=dark] .colab-df-quickchart {\n",
              "      --bg-color: #3B4455;\n",
              "      --fill-color: #D2E3FC;\n",
              "      --hover-bg-color: #434B5C;\n",
              "      --hover-fill-color: #FFFFFF;\n",
              "      --disabled-bg-color: #3B4455;\n",
              "      --disabled-fill-color: #666;\n",
              "  }\n",
              "\n",
              "  .colab-df-quickchart {\n",
              "    background-color: var(--bg-color);\n",
              "    border: none;\n",
              "    border-radius: 50%;\n",
              "    cursor: pointer;\n",
              "    display: none;\n",
              "    fill: var(--fill-color);\n",
              "    height: 32px;\n",
              "    padding: 0;\n",
              "    width: 32px;\n",
              "  }\n",
              "\n",
              "  .colab-df-quickchart:hover {\n",
              "    background-color: var(--hover-bg-color);\n",
              "    box-shadow: 0 1px 2px rgba(60, 64, 67, 0.3), 0 1px 3px 1px rgba(60, 64, 67, 0.15);\n",
              "    fill: var(--button-hover-fill-color);\n",
              "  }\n",
              "\n",
              "  .colab-df-quickchart-complete:disabled,\n",
              "  .colab-df-quickchart-complete:disabled:hover {\n",
              "    background-color: var(--disabled-bg-color);\n",
              "    fill: var(--disabled-fill-color);\n",
              "    box-shadow: none;\n",
              "  }\n",
              "\n",
              "  .colab-df-spinner {\n",
              "    border: 2px solid var(--fill-color);\n",
              "    border-color: transparent;\n",
              "    border-bottom-color: var(--fill-color);\n",
              "    animation:\n",
              "      spin 1s steps(1) infinite;\n",
              "  }\n",
              "\n",
              "  @keyframes spin {\n",
              "    0% {\n",
              "      border-color: transparent;\n",
              "      border-bottom-color: var(--fill-color);\n",
              "      border-left-color: var(--fill-color);\n",
              "    }\n",
              "    20% {\n",
              "      border-color: transparent;\n",
              "      border-left-color: var(--fill-color);\n",
              "      border-top-color: var(--fill-color);\n",
              "    }\n",
              "    30% {\n",
              "      border-color: transparent;\n",
              "      border-left-color: var(--fill-color);\n",
              "      border-top-color: var(--fill-color);\n",
              "      border-right-color: var(--fill-color);\n",
              "    }\n",
              "    40% {\n",
              "      border-color: transparent;\n",
              "      border-right-color: var(--fill-color);\n",
              "      border-top-color: var(--fill-color);\n",
              "    }\n",
              "    60% {\n",
              "      border-color: transparent;\n",
              "      border-right-color: var(--fill-color);\n",
              "    }\n",
              "    80% {\n",
              "      border-color: transparent;\n",
              "      border-right-color: var(--fill-color);\n",
              "      border-bottom-color: var(--fill-color);\n",
              "    }\n",
              "    90% {\n",
              "      border-color: transparent;\n",
              "      border-bottom-color: var(--fill-color);\n",
              "    }\n",
              "  }\n",
              "</style>\n",
              "\n",
              "  <script>\n",
              "    async function quickchart(key) {\n",
              "      const quickchartButtonEl =\n",
              "        document.querySelector('#' + key + ' button');\n",
              "      quickchartButtonEl.disabled = true;  // To prevent multiple clicks.\n",
              "      quickchartButtonEl.classList.add('colab-df-spinner');\n",
              "      try {\n",
              "        const charts = await google.colab.kernel.invokeFunction(\n",
              "            'suggestCharts', [key], {});\n",
              "      } catch (error) {\n",
              "        console.error('Error during call to suggestCharts:', error);\n",
              "      }\n",
              "      quickchartButtonEl.classList.remove('colab-df-spinner');\n",
              "      quickchartButtonEl.classList.add('colab-df-quickchart-complete');\n",
              "    }\n",
              "    (() => {\n",
              "      let quickchartButtonEl =\n",
              "        document.querySelector('#df-a545466e-73cb-459d-a64d-951c83e94a34 button');\n",
              "      quickchartButtonEl.style.display =\n",
              "        google.colab.kernel.accessAllowed ? 'block' : 'none';\n",
              "    })();\n",
              "  </script>\n",
              "</div>\n",
              "\n",
              "    </div>\n",
              "  </div>\n"
            ],
            "application/vnd.google.colaboratory.intrinsic+json": {
              "type": "dataframe",
              "summary": "{\n  \"name\": \"pd\",\n  \"rows\": 51304,\n  \"fields\": [\n    {\n      \"column\": \"Unnamed: 0\",\n      \"properties\": {\n        \"dtype\": \"number\",\n        \"std\": 14810,\n        \"min\": 0,\n        \"max\": 51303,\n        \"num_unique_values\": 51304,\n        \"samples\": [\n          16974,\n          11872,\n          49755\n        ],\n        \"semantic_type\": \"\",\n        \"description\": \"\"\n      }\n    },\n    {\n      \"column\": \"id\",\n      \"properties\": {\n        \"dtype\": \"number\",\n        \"std\": 12161151,\n        \"min\": 25687984,\n        \"max\": 66969860,\n        \"num_unique_values\": 43636,\n        \"samples\": [\n          66765232,\n          66287807,\n          66778301\n        ],\n        \"semantic_type\": \"\",\n        \"description\": \"\"\n      }\n    },\n    {\n      \"column\": \"type_of_contract\",\n      \"properties\": {\n        \"dtype\": \"category\",\n        \"num_unique_values\": 2,\n        \"samples\": [\n          \"\\uba64\\ubc84\\uc2ed\",\n          \"\\ub80c\\ud0c8\"\n        ],\n        \"semantic_type\": \"\",\n        \"description\": \"\"\n      }\n    },\n    {\n      \"column\": \"type_of_contract2\",\n      \"properties\": {\n        \"dtype\": \"category\",\n        \"num_unique_values\": 9,\n        \"samples\": [\n          \"Group\",\n          \"Extension_Rental\"\n        ],\n        \"semantic_type\": \"\",\n        \"description\": \"\"\n      }\n    },\n    {\n      \"column\": \"channel\",\n      \"properties\": {\n        \"dtype\": \"category\",\n        \"num_unique_values\": 20,\n        \"samples\": [\n          \"\\uc11c\\ube44\\uc2a4 \\ubc29\\ubb38\",\n          \"R\\ubc95\\uc778\"\n        ],\n        \"semantic_type\": \"\",\n        \"description\": \"\"\n      }\n    },\n    {\n      \"column\": \"datetime\",\n      \"properties\": {\n        \"dtype\": \"object\",\n        \"num_unique_values\": 101,\n        \"samples\": [\n          \"2020-01-18\",\n          \"2019-12-14\"\n        ],\n        \"semantic_type\": \"\",\n        \"description\": \"\"\n      }\n    },\n    {\n      \"column\": \"Term\",\n      \"properties\": {\n        \"dtype\": \"number\",\n        \"std\": 12,\n        \"min\": 12,\n        \"max\": 60,\n        \"num_unique_values\": 4,\n        \"samples\": [\n          12,\n          39\n        ],\n        \"semantic_type\": \"\",\n        \"description\": \"\"\n      }\n    },\n    {\n      \"column\": \"payment_type\",\n      \"properties\": {\n        \"dtype\": \"category\",\n        \"num_unique_values\": 5,\n        \"samples\": [\n          \"\\uce74\\ub4dc\\uc774\\uccb4\",\n          \"\\ubb34\\ud1b5\\uc7a5\"\n        ],\n        \"semantic_type\": \"\",\n        \"description\": \"\"\n      }\n    },\n    {\n      \"column\": \"product\",\n      \"properties\": {\n        \"dtype\": \"category\",\n        \"num_unique_values\": 6,\n        \"samples\": [\n          \"K1\",\n          \"K3\"\n        ],\n        \"semantic_type\": \"\",\n        \"description\": \"\"\n      }\n    },\n    {\n      \"column\": \"amount\",\n      \"properties\": {\n        \"dtype\": \"number\",\n        \"std\": 15305,\n        \"min\": 54603,\n        \"max\": 215700,\n        \"num_unique_values\": 94,\n        \"samples\": [\n          114150,\n          145200\n        ],\n        \"semantic_type\": \"\",\n        \"description\": \"\"\n      }\n    },\n    {\n      \"column\": \"state\",\n      \"properties\": {\n        \"dtype\": \"category\",\n        \"num_unique_values\": 4,\n        \"samples\": [\n          \"\\ud574\\uc57d\\ud655\\uc815\",\n          \"\\ud574\\uc57d\\uc9c4\\ud589\\uc911\"\n        ],\n        \"semantic_type\": \"\",\n        \"description\": \"\"\n      }\n    },\n    {\n      \"column\": \"overdue_count\",\n      \"properties\": {\n        \"dtype\": \"number\",\n        \"std\": 1,\n        \"min\": -1,\n        \"max\": 15,\n        \"num_unique_values\": 17,\n        \"samples\": [\n          0,\n          12\n        ],\n        \"semantic_type\": \"\",\n        \"description\": \"\"\n      }\n    },\n    {\n      \"column\": \"overdue\",\n      \"properties\": {\n        \"dtype\": \"category\",\n        \"num_unique_values\": 2,\n        \"samples\": [\n          \"\\uc788\\uc74c\",\n          \"\\uc5c6\\uc74c\"\n        ],\n        \"semantic_type\": \"\",\n        \"description\": \"\"\n      }\n    },\n    {\n      \"column\": \"credit rating\",\n      \"properties\": {\n        \"dtype\": \"number\",\n        \"std\": 2.213590435737507,\n        \"min\": 0.0,\n        \"max\": 10.0,\n        \"num_unique_values\": 11,\n        \"samples\": [\n          7.0,\n          9.0\n        ],\n        \"semantic_type\": \"\",\n        \"description\": \"\"\n      }\n    },\n    {\n      \"column\": \"bank\",\n      \"properties\": {\n        \"dtype\": \"category\",\n        \"num_unique_values\": 46,\n        \"samples\": [\n          \"\\ud558\\ub098SK\",\n          \"\\uc720\\uc548\\ud0c0\\uc99d\\uad8c\"\n        ],\n        \"semantic_type\": \"\",\n        \"description\": \"\"\n      }\n    },\n    {\n      \"column\": \"cancellation\",\n      \"properties\": {\n        \"dtype\": \"category\",\n        \"num_unique_values\": 2,\n        \"samples\": [\n          \"\\ud574\\uc57d\",\n          \"\\uc815\\uc0c1\"\n        ],\n        \"semantic_type\": \"\",\n        \"description\": \"\"\n      }\n    },\n    {\n      \"column\": \"age\",\n      \"properties\": {\n        \"dtype\": \"number\",\n        \"std\": 13.46597687950006,\n        \"min\": 20.0,\n        \"max\": 107.0,\n        \"num_unique_values\": 84,\n        \"samples\": [\n          94.0,\n          43.0\n        ],\n        \"semantic_type\": \"\",\n        \"description\": \"\"\n      }\n    },\n    {\n      \"column\": \"Mileage\",\n      \"properties\": {\n        \"dtype\": \"number\",\n        \"std\": 436.707328748971,\n        \"min\": 872.0,\n        \"max\": 3803.0,\n        \"num_unique_values\": 2297,\n        \"samples\": [\n          1179.0,\n          2586.0\n        ],\n        \"semantic_type\": \"\",\n        \"description\": \"\"\n      }\n    }\n  ]\n}"
            }
          },
          "metadata": {},
          "execution_count": 3
        }
      ]
    },
    {
      "cell_type": "code",
      "source": [
        "df1 = pd.read_csv('/content/drive/MyDrive/Colab Notebooks/Class 101/datas/Data02.csv', encoding = 'cp949')"
      ],
      "metadata": {
        "id": "19A1DuMmfUJL"
      },
      "execution_count": 4,
      "outputs": []
    },
    {
      "cell_type": "code",
      "source": [
        "df1.columns"
      ],
      "metadata": {
        "colab": {
          "base_uri": "https://localhost:8080/"
        },
        "id": "9Z4sdxzsfZeh",
        "outputId": "d964b685-d189-4b08-984d-f85f8d3d1a55"
      },
      "execution_count": 5,
      "outputs": [
        {
          "output_type": "execute_result",
          "data": {
            "text/plain": [
              "Index(['Unnamed: 0', 'id', 'type_of_contract', 'type_of_contract2', 'channel',\n",
              "       'datetime', 'Term', 'payment_type', 'product', 'amount', 'state',\n",
              "       'overdue_count', 'overdue', 'credit rating', 'bank', 'cancellation',\n",
              "       'age', 'Mileage'],\n",
              "      dtype='object')"
            ]
          },
          "metadata": {},
          "execution_count": 5
        }
      ]
    },
    {
      "cell_type": "code",
      "source": [
        "cond1 = df1['cancellation'].isnull()"
      ],
      "metadata": {
        "id": "qrFD74Q9fhDh"
      },
      "execution_count": 6,
      "outputs": []
    },
    {
      "cell_type": "code",
      "source": [
        "df1_clean = df1[~cond1]"
      ],
      "metadata": {
        "id": "55IZYAgbfmDB"
      },
      "execution_count": 7,
      "outputs": []
    },
    {
      "cell_type": "code",
      "source": [
        "df1_clean['cancellation'].isnull().sum()"
      ],
      "metadata": {
        "colab": {
          "base_uri": "https://localhost:8080/"
        },
        "id": "ZCOmDoeufz9Z",
        "outputId": "e1378293-9537-4735-ea98-1c234a445d4c"
      },
      "execution_count": 8,
      "outputs": [
        {
          "output_type": "execute_result",
          "data": {
            "text/plain": [
              "0"
            ]
          },
          "metadata": {},
          "execution_count": 8
        }
      ]
    },
    {
      "cell_type": "code",
      "source": [
        "X = df1_clean[['type_of_contract', 'Term', 'product', 'amount', 'credit rating', 'age']]\n",
        "Y = df1_clean['cancellation'].replace({'정상':0, '해약':1})"
      ],
      "metadata": {
        "id": "9LGpbglAf9sh"
      },
      "execution_count": 9,
      "outputs": []
    },
    {
      "cell_type": "code",
      "source": [
        "from sklearn.model_selection import train_test_split\n",
        "from sklearn.pipeline import Pipeline\n",
        "from sklearn.compose import make_column_transformer\n",
        "from sklearn.impute import SimpleImputer\n",
        "from sklearn.preprocessing import OneHotEncoder, StandardScaler, MinMaxScaler\n",
        "\n",
        "from sklearn.ensemble import RandomForestClassifier\n",
        "from imblearn.pipeline import make_pipeline\n",
        "from imblearn.over_sampling import SMOTE\n",
        "from sklearn.model_selection import GridSearchCV\n",
        "\n",
        "from sklearn.metrics import classification_report"
      ],
      "metadata": {
        "id": "eug20YKVr-7W"
      },
      "execution_count": 10,
      "outputs": []
    },
    {
      "cell_type": "code",
      "source": [
        "X_train, X_test, Y_train, Y_test = train_test_split(X, Y, random_state = 1234)"
      ],
      "metadata": {
        "id": "y7QRZH4TsvMu"
      },
      "execution_count": 11,
      "outputs": []
    },
    {
      "cell_type": "code",
      "source": [
        "numeric_pipe = make_pipeline(SimpleImputer(strategy = 'mean'), MinMaxScaler())\n",
        "categorical_pipe = make_pipeline(SimpleImputer(strategy = 'most_frequent'), OneHotEncoder(handle_unknown= 'ignore'))"
      ],
      "metadata": {
        "id": "lfVHJg32s8c2"
      },
      "execution_count": 12,
      "outputs": []
    },
    {
      "cell_type": "code",
      "source": [
        "numeric_list = ['Term', 'amount', 'credit rating', 'age']\n",
        "categorical_list = ['type_of_contract', 'product']\n",
        "\n",
        "preprocessing_pipe = make_column_transformer((numeric_pipe, numeric_list), (categorical_pipe, categorical_list))"
      ],
      "metadata": {
        "id": "dzTe9kNrttV_"
      },
      "execution_count": 13,
      "outputs": []
    },
    {
      "cell_type": "code",
      "source": [
        "model_pipe = make_pipeline(preprocessing_pipe, RandomForestClassifier())"
      ],
      "metadata": {
        "id": "rrjfmh2XurXI"
      },
      "execution_count": 38,
      "outputs": []
    },
    {
      "cell_type": "code",
      "source": [
        "hyperparameter = {'randomforestclassifier__max_depth': range(5,10),\n",
        "                  'randomforestclassifier__min_samples_split': range(5,10),\n",
        "                  'randomforestclassifier__n_estimators': [50,100,150],\n",
        "                  'randomforestclassifier__class_weight':['balanced']}\n",
        "\n",
        "grid_model = GridSearchCV(model_pipe, param_grid = hyperparameter, cv = 5, scoring = 'f1', n_jobs = -1)\n",
        "grid_model.fit(X_train, Y_train)"
      ],
      "metadata": {
        "colab": {
          "base_uri": "https://localhost:8080/",
          "height": 251
        },
        "id": "jYLQifzvEcyb",
        "outputId": "c8b1f60f-1432-44d0-cfff-2505380f7929"
      },
      "execution_count": 39,
      "outputs": [
        {
          "output_type": "execute_result",
          "data": {
            "text/plain": [
              "GridSearchCV(cv=5,\n",
              "             estimator=Pipeline(steps=[('columntransformer',\n",
              "                                        ColumnTransformer(transformers=[('pipeline-1',\n",
              "                                                                         Pipeline(steps=[('simpleimputer',\n",
              "                                                                                          SimpleImputer()),\n",
              "                                                                                         ('minmaxscaler',\n",
              "                                                                                          MinMaxScaler())]),\n",
              "                                                                         ['Term',\n",
              "                                                                          'amount',\n",
              "                                                                          'credit '\n",
              "                                                                          'rating',\n",
              "                                                                          'age']),\n",
              "                                                                        ('pipeline-2',\n",
              "                                                                         Pipeline(steps=[('simpleimputer',\n",
              "                                                                                          SimpleImputer(strategy='most_frequent')),\n",
              "                                                                                         ('onehotencoder',\n",
              "                                                                                          OneHotEn...own='ignore'))]),\n",
              "                                                                         ['type_of_contract',\n",
              "                                                                          'product'])])),\n",
              "                                       ('randomforestclassifier',\n",
              "                                        RandomForestClassifier())]),\n",
              "             n_jobs=-1,\n",
              "             param_grid={'randomforestclassifier__class_weight': ['balanced'],\n",
              "                         'randomforestclassifier__max_depth': range(5, 10),\n",
              "                         'randomforestclassifier__min_samples_split': range(5, 10),\n",
              "                         'randomforestclassifier__n_estimators': [50, 100,\n",
              "                                                                  150]},\n",
              "             scoring='f1')"
            ],
            "text/html": [
              "<style>#sk-container-id-2 {color: black;background-color: white;}#sk-container-id-2 pre{padding: 0;}#sk-container-id-2 div.sk-toggleable {background-color: white;}#sk-container-id-2 label.sk-toggleable__label {cursor: pointer;display: block;width: 100%;margin-bottom: 0;padding: 0.3em;box-sizing: border-box;text-align: center;}#sk-container-id-2 label.sk-toggleable__label-arrow:before {content: \"▸\";float: left;margin-right: 0.25em;color: #696969;}#sk-container-id-2 label.sk-toggleable__label-arrow:hover:before {color: black;}#sk-container-id-2 div.sk-estimator:hover label.sk-toggleable__label-arrow:before {color: black;}#sk-container-id-2 div.sk-toggleable__content {max-height: 0;max-width: 0;overflow: hidden;text-align: left;background-color: #f0f8ff;}#sk-container-id-2 div.sk-toggleable__content pre {margin: 0.2em;color: black;border-radius: 0.25em;background-color: #f0f8ff;}#sk-container-id-2 input.sk-toggleable__control:checked~div.sk-toggleable__content {max-height: 200px;max-width: 100%;overflow: auto;}#sk-container-id-2 input.sk-toggleable__control:checked~label.sk-toggleable__label-arrow:before {content: \"▾\";}#sk-container-id-2 div.sk-estimator input.sk-toggleable__control:checked~label.sk-toggleable__label {background-color: #d4ebff;}#sk-container-id-2 div.sk-label input.sk-toggleable__control:checked~label.sk-toggleable__label {background-color: #d4ebff;}#sk-container-id-2 input.sk-hidden--visually {border: 0;clip: rect(1px 1px 1px 1px);clip: rect(1px, 1px, 1px, 1px);height: 1px;margin: -1px;overflow: hidden;padding: 0;position: absolute;width: 1px;}#sk-container-id-2 div.sk-estimator {font-family: monospace;background-color: #f0f8ff;border: 1px dotted black;border-radius: 0.25em;box-sizing: border-box;margin-bottom: 0.5em;}#sk-container-id-2 div.sk-estimator:hover {background-color: #d4ebff;}#sk-container-id-2 div.sk-parallel-item::after {content: \"\";width: 100%;border-bottom: 1px solid gray;flex-grow: 1;}#sk-container-id-2 div.sk-label:hover label.sk-toggleable__label {background-color: #d4ebff;}#sk-container-id-2 div.sk-serial::before {content: \"\";position: absolute;border-left: 1px solid gray;box-sizing: border-box;top: 0;bottom: 0;left: 50%;z-index: 0;}#sk-container-id-2 div.sk-serial {display: flex;flex-direction: column;align-items: center;background-color: white;padding-right: 0.2em;padding-left: 0.2em;position: relative;}#sk-container-id-2 div.sk-item {position: relative;z-index: 1;}#sk-container-id-2 div.sk-parallel {display: flex;align-items: stretch;justify-content: center;background-color: white;position: relative;}#sk-container-id-2 div.sk-item::before, #sk-container-id-2 div.sk-parallel-item::before {content: \"\";position: absolute;border-left: 1px solid gray;box-sizing: border-box;top: 0;bottom: 0;left: 50%;z-index: -1;}#sk-container-id-2 div.sk-parallel-item {display: flex;flex-direction: column;z-index: 1;position: relative;background-color: white;}#sk-container-id-2 div.sk-parallel-item:first-child::after {align-self: flex-end;width: 50%;}#sk-container-id-2 div.sk-parallel-item:last-child::after {align-self: flex-start;width: 50%;}#sk-container-id-2 div.sk-parallel-item:only-child::after {width: 0;}#sk-container-id-2 div.sk-dashed-wrapped {border: 1px dashed gray;margin: 0 0.4em 0.5em 0.4em;box-sizing: border-box;padding-bottom: 0.4em;background-color: white;}#sk-container-id-2 div.sk-label label {font-family: monospace;font-weight: bold;display: inline-block;line-height: 1.2em;}#sk-container-id-2 div.sk-label-container {text-align: center;}#sk-container-id-2 div.sk-container {/* jupyter's `normalize.less` sets `[hidden] { display: none; }` but bootstrap.min.css set `[hidden] { display: none !important; }` so we also need the `!important` here to be able to override the default hidden behavior on the sphinx rendered scikit-learn.org. See: https://github.com/scikit-learn/scikit-learn/issues/21755 */display: inline-block !important;position: relative;}#sk-container-id-2 div.sk-text-repr-fallback {display: none;}</style><div id=\"sk-container-id-2\" class=\"sk-top-container\"><div class=\"sk-text-repr-fallback\"><pre>GridSearchCV(cv=5,\n",
              "             estimator=Pipeline(steps=[(&#x27;columntransformer&#x27;,\n",
              "                                        ColumnTransformer(transformers=[(&#x27;pipeline-1&#x27;,\n",
              "                                                                         Pipeline(steps=[(&#x27;simpleimputer&#x27;,\n",
              "                                                                                          SimpleImputer()),\n",
              "                                                                                         (&#x27;minmaxscaler&#x27;,\n",
              "                                                                                          MinMaxScaler())]),\n",
              "                                                                         [&#x27;Term&#x27;,\n",
              "                                                                          &#x27;amount&#x27;,\n",
              "                                                                          &#x27;credit &#x27;\n",
              "                                                                          &#x27;rating&#x27;,\n",
              "                                                                          &#x27;age&#x27;]),\n",
              "                                                                        (&#x27;pipeline-2&#x27;,\n",
              "                                                                         Pipeline(steps=[(&#x27;simpleimputer&#x27;,\n",
              "                                                                                          SimpleImputer(strategy=&#x27;most_frequent&#x27;)),\n",
              "                                                                                         (&#x27;onehotencoder&#x27;,\n",
              "                                                                                          OneHotEn...own=&#x27;ignore&#x27;))]),\n",
              "                                                                         [&#x27;type_of_contract&#x27;,\n",
              "                                                                          &#x27;product&#x27;])])),\n",
              "                                       (&#x27;randomforestclassifier&#x27;,\n",
              "                                        RandomForestClassifier())]),\n",
              "             n_jobs=-1,\n",
              "             param_grid={&#x27;randomforestclassifier__class_weight&#x27;: [&#x27;balanced&#x27;],\n",
              "                         &#x27;randomforestclassifier__max_depth&#x27;: range(5, 10),\n",
              "                         &#x27;randomforestclassifier__min_samples_split&#x27;: range(5, 10),\n",
              "                         &#x27;randomforestclassifier__n_estimators&#x27;: [50, 100,\n",
              "                                                                  150]},\n",
              "             scoring=&#x27;f1&#x27;)</pre><b>In a Jupyter environment, please rerun this cell to show the HTML representation or trust the notebook. <br />On GitHub, the HTML representation is unable to render, please try loading this page with nbviewer.org.</b></div><div class=\"sk-container\" hidden><div class=\"sk-item sk-dashed-wrapped\"><div class=\"sk-label-container\"><div class=\"sk-label sk-toggleable\"><input class=\"sk-toggleable__control sk-hidden--visually\" id=\"sk-estimator-id-12\" type=\"checkbox\" ><label for=\"sk-estimator-id-12\" class=\"sk-toggleable__label sk-toggleable__label-arrow\">GridSearchCV</label><div class=\"sk-toggleable__content\"><pre>GridSearchCV(cv=5,\n",
              "             estimator=Pipeline(steps=[(&#x27;columntransformer&#x27;,\n",
              "                                        ColumnTransformer(transformers=[(&#x27;pipeline-1&#x27;,\n",
              "                                                                         Pipeline(steps=[(&#x27;simpleimputer&#x27;,\n",
              "                                                                                          SimpleImputer()),\n",
              "                                                                                         (&#x27;minmaxscaler&#x27;,\n",
              "                                                                                          MinMaxScaler())]),\n",
              "                                                                         [&#x27;Term&#x27;,\n",
              "                                                                          &#x27;amount&#x27;,\n",
              "                                                                          &#x27;credit &#x27;\n",
              "                                                                          &#x27;rating&#x27;,\n",
              "                                                                          &#x27;age&#x27;]),\n",
              "                                                                        (&#x27;pipeline-2&#x27;,\n",
              "                                                                         Pipeline(steps=[(&#x27;simpleimputer&#x27;,\n",
              "                                                                                          SimpleImputer(strategy=&#x27;most_frequent&#x27;)),\n",
              "                                                                                         (&#x27;onehotencoder&#x27;,\n",
              "                                                                                          OneHotEn...own=&#x27;ignore&#x27;))]),\n",
              "                                                                         [&#x27;type_of_contract&#x27;,\n",
              "                                                                          &#x27;product&#x27;])])),\n",
              "                                       (&#x27;randomforestclassifier&#x27;,\n",
              "                                        RandomForestClassifier())]),\n",
              "             n_jobs=-1,\n",
              "             param_grid={&#x27;randomforestclassifier__class_weight&#x27;: [&#x27;balanced&#x27;],\n",
              "                         &#x27;randomforestclassifier__max_depth&#x27;: range(5, 10),\n",
              "                         &#x27;randomforestclassifier__min_samples_split&#x27;: range(5, 10),\n",
              "                         &#x27;randomforestclassifier__n_estimators&#x27;: [50, 100,\n",
              "                                                                  150]},\n",
              "             scoring=&#x27;f1&#x27;)</pre></div></div></div><div class=\"sk-parallel\"><div class=\"sk-parallel-item\"><div class=\"sk-item\"><div class=\"sk-label-container\"><div class=\"sk-label sk-toggleable\"><input class=\"sk-toggleable__control sk-hidden--visually\" id=\"sk-estimator-id-13\" type=\"checkbox\" ><label for=\"sk-estimator-id-13\" class=\"sk-toggleable__label sk-toggleable__label-arrow\">estimator: Pipeline</label><div class=\"sk-toggleable__content\"><pre>Pipeline(steps=[(&#x27;columntransformer&#x27;,\n",
              "                 ColumnTransformer(transformers=[(&#x27;pipeline-1&#x27;,\n",
              "                                                  Pipeline(steps=[(&#x27;simpleimputer&#x27;,\n",
              "                                                                   SimpleImputer()),\n",
              "                                                                  (&#x27;minmaxscaler&#x27;,\n",
              "                                                                   MinMaxScaler())]),\n",
              "                                                  [&#x27;Term&#x27;, &#x27;amount&#x27;,\n",
              "                                                   &#x27;credit rating&#x27;, &#x27;age&#x27;]),\n",
              "                                                 (&#x27;pipeline-2&#x27;,\n",
              "                                                  Pipeline(steps=[(&#x27;simpleimputer&#x27;,\n",
              "                                                                   SimpleImputer(strategy=&#x27;most_frequent&#x27;)),\n",
              "                                                                  (&#x27;onehotencoder&#x27;,\n",
              "                                                                   OneHotEncoder(handle_unknown=&#x27;ignore&#x27;))]),\n",
              "                                                  [&#x27;type_of_contract&#x27;,\n",
              "                                                   &#x27;product&#x27;])])),\n",
              "                (&#x27;randomforestclassifier&#x27;, RandomForestClassifier())])</pre></div></div></div><div class=\"sk-serial\"><div class=\"sk-item\"><div class=\"sk-serial\"><div class=\"sk-item sk-dashed-wrapped\"><div class=\"sk-label-container\"><div class=\"sk-label sk-toggleable\"><input class=\"sk-toggleable__control sk-hidden--visually\" id=\"sk-estimator-id-14\" type=\"checkbox\" ><label for=\"sk-estimator-id-14\" class=\"sk-toggleable__label sk-toggleable__label-arrow\">columntransformer: ColumnTransformer</label><div class=\"sk-toggleable__content\"><pre>ColumnTransformer(transformers=[(&#x27;pipeline-1&#x27;,\n",
              "                                 Pipeline(steps=[(&#x27;simpleimputer&#x27;,\n",
              "                                                  SimpleImputer()),\n",
              "                                                 (&#x27;minmaxscaler&#x27;,\n",
              "                                                  MinMaxScaler())]),\n",
              "                                 [&#x27;Term&#x27;, &#x27;amount&#x27;, &#x27;credit rating&#x27;, &#x27;age&#x27;]),\n",
              "                                (&#x27;pipeline-2&#x27;,\n",
              "                                 Pipeline(steps=[(&#x27;simpleimputer&#x27;,\n",
              "                                                  SimpleImputer(strategy=&#x27;most_frequent&#x27;)),\n",
              "                                                 (&#x27;onehotencoder&#x27;,\n",
              "                                                  OneHotEncoder(handle_unknown=&#x27;ignore&#x27;))]),\n",
              "                                 [&#x27;type_of_contract&#x27;, &#x27;product&#x27;])])</pre></div></div></div><div class=\"sk-parallel\"><div class=\"sk-parallel-item\"><div class=\"sk-item\"><div class=\"sk-label-container\"><div class=\"sk-label sk-toggleable\"><input class=\"sk-toggleable__control sk-hidden--visually\" id=\"sk-estimator-id-15\" type=\"checkbox\" ><label for=\"sk-estimator-id-15\" class=\"sk-toggleable__label sk-toggleable__label-arrow\">pipeline-1</label><div class=\"sk-toggleable__content\"><pre>[&#x27;Term&#x27;, &#x27;amount&#x27;, &#x27;credit rating&#x27;, &#x27;age&#x27;]</pre></div></div></div><div class=\"sk-serial\"><div class=\"sk-item\"><div class=\"sk-serial\"><div class=\"sk-item\"><div class=\"sk-estimator sk-toggleable\"><input class=\"sk-toggleable__control sk-hidden--visually\" id=\"sk-estimator-id-16\" type=\"checkbox\" ><label for=\"sk-estimator-id-16\" class=\"sk-toggleable__label sk-toggleable__label-arrow\">SimpleImputer</label><div class=\"sk-toggleable__content\"><pre>SimpleImputer()</pre></div></div></div><div class=\"sk-item\"><div class=\"sk-estimator sk-toggleable\"><input class=\"sk-toggleable__control sk-hidden--visually\" id=\"sk-estimator-id-17\" type=\"checkbox\" ><label for=\"sk-estimator-id-17\" class=\"sk-toggleable__label sk-toggleable__label-arrow\">MinMaxScaler</label><div class=\"sk-toggleable__content\"><pre>MinMaxScaler()</pre></div></div></div></div></div></div></div></div><div class=\"sk-parallel-item\"><div class=\"sk-item\"><div class=\"sk-label-container\"><div class=\"sk-label sk-toggleable\"><input class=\"sk-toggleable__control sk-hidden--visually\" id=\"sk-estimator-id-18\" type=\"checkbox\" ><label for=\"sk-estimator-id-18\" class=\"sk-toggleable__label sk-toggleable__label-arrow\">pipeline-2</label><div class=\"sk-toggleable__content\"><pre>[&#x27;type_of_contract&#x27;, &#x27;product&#x27;]</pre></div></div></div><div class=\"sk-serial\"><div class=\"sk-item\"><div class=\"sk-serial\"><div class=\"sk-item\"><div class=\"sk-estimator sk-toggleable\"><input class=\"sk-toggleable__control sk-hidden--visually\" id=\"sk-estimator-id-19\" type=\"checkbox\" ><label for=\"sk-estimator-id-19\" class=\"sk-toggleable__label sk-toggleable__label-arrow\">SimpleImputer</label><div class=\"sk-toggleable__content\"><pre>SimpleImputer(strategy=&#x27;most_frequent&#x27;)</pre></div></div></div><div class=\"sk-item\"><div class=\"sk-estimator sk-toggleable\"><input class=\"sk-toggleable__control sk-hidden--visually\" id=\"sk-estimator-id-20\" type=\"checkbox\" ><label for=\"sk-estimator-id-20\" class=\"sk-toggleable__label sk-toggleable__label-arrow\">OneHotEncoder</label><div class=\"sk-toggleable__content\"><pre>OneHotEncoder(handle_unknown=&#x27;ignore&#x27;)</pre></div></div></div></div></div></div></div></div></div></div><div class=\"sk-item\"><div class=\"sk-estimator sk-toggleable\"><input class=\"sk-toggleable__control sk-hidden--visually\" id=\"sk-estimator-id-21\" type=\"checkbox\" ><label for=\"sk-estimator-id-21\" class=\"sk-toggleable__label sk-toggleable__label-arrow\">RandomForestClassifier</label><div class=\"sk-toggleable__content\"><pre>RandomForestClassifier()</pre></div></div></div></div></div></div></div></div></div></div></div></div>"
            ]
          },
          "metadata": {},
          "execution_count": 39
        }
      ]
    },
    {
      "cell_type": "code",
      "source": [
        "best_model = grid_model.best_estimator_\n",
        "Y_train_pred = best_model.predict(X_train)\n",
        "Y_test_pred = best_model.predict(X_test)"
      ],
      "metadata": {
        "id": "G6-1tumkFg4S"
      },
      "execution_count": 40,
      "outputs": []
    },
    {
      "cell_type": "code",
      "source": [
        "print(classification_report(Y_train, Y_train_pred))"
      ],
      "metadata": {
        "colab": {
          "base_uri": "https://localhost:8080/"
        },
        "id": "LHJDeZWjJLjz",
        "outputId": "fd0827ff-1e84-43fc-c6ce-13e9d113542d"
      },
      "execution_count": 41,
      "outputs": [
        {
          "output_type": "stream",
          "name": "stdout",
          "text": [
            "              precision    recall  f1-score   support\n",
            "\n",
            "           0       0.99      0.92      0.96     37775\n",
            "           1       0.13      0.61      0.21       684\n",
            "\n",
            "    accuracy                           0.92     38459\n",
            "   macro avg       0.56      0.77      0.58     38459\n",
            "weighted avg       0.98      0.92      0.94     38459\n",
            "\n"
          ]
        }
      ]
    },
    {
      "cell_type": "code",
      "source": [
        "from sklearn.metrics import precision_recall_curve"
      ],
      "metadata": {
        "id": "DWHpiNXOJf8R"
      },
      "execution_count": 42,
      "outputs": []
    },
    {
      "cell_type": "code",
      "source": [
        "best_model.predict_proba(X_test)"
      ],
      "metadata": {
        "colab": {
          "base_uri": "https://localhost:8080/"
        },
        "id": "-g2l9sUqMZMx",
        "outputId": "e9a1169d-0625-4ef1-9be1-1cebf3f1fca4"
      },
      "execution_count": 43,
      "outputs": [
        {
          "output_type": "execute_result",
          "data": {
            "text/plain": [
              "array([[0.78705639, 0.21294361],\n",
              "       [0.81748478, 0.18251522],\n",
              "       [0.58875515, 0.41124485],\n",
              "       ...,\n",
              "       [0.64064264, 0.35935736],\n",
              "       [0.76131977, 0.23868023],\n",
              "       [0.39056436, 0.60943564]])"
            ]
          },
          "metadata": {},
          "execution_count": 43
        }
      ]
    },
    {
      "cell_type": "code",
      "source": [
        "Y_test_proba = best_model.predict_proba(X_test)[:, 1]"
      ],
      "metadata": {
        "id": "ZR2-raATMh8x"
      },
      "execution_count": 44,
      "outputs": []
    },
    {
      "cell_type": "code",
      "source": [
        "precision, recall, threshold = precision_recall_curve(Y_test, Y_test_proba)"
      ],
      "metadata": {
        "id": "xMwfnEhwNK0y"
      },
      "execution_count": 45,
      "outputs": []
    },
    {
      "cell_type": "code",
      "source": [
        "import matplotlib.pyplot as plt"
      ],
      "metadata": {
        "id": "_OD3vrTcNhJD"
      },
      "execution_count": 46,
      "outputs": []
    },
    {
      "cell_type": "code",
      "source": [
        "threshold.shape"
      ],
      "metadata": {
        "colab": {
          "base_uri": "https://localhost:8080/"
        },
        "id": "MTdxaPZ_QW8y",
        "outputId": "35a8aa63-2775-48dd-d277-09c1f5aa49cf"
      },
      "execution_count": 47,
      "outputs": [
        {
          "output_type": "execute_result",
          "data": {
            "text/plain": [
              "(3898,)"
            ]
          },
          "metadata": {},
          "execution_count": 47
        }
      ]
    },
    {
      "cell_type": "code",
      "source": [
        "plt.plot(threshold, precision[0:3898], linestyle = '--', label ='precision')\n",
        "plt.plot(threshold, recall[0:3898])\n",
        "plt.legend()"
      ],
      "metadata": {
        "colab": {
          "base_uri": "https://localhost:8080/",
          "height": 448
        },
        "id": "UDs8eML2Njaw",
        "outputId": "693d7450-ac93-4864-81cc-860f8af6ee31"
      },
      "execution_count": 48,
      "outputs": [
        {
          "output_type": "execute_result",
          "data": {
            "text/plain": [
              "<matplotlib.legend.Legend at 0x7c2ef9437880>"
            ]
          },
          "metadata": {},
          "execution_count": 48
        },
        {
          "output_type": "display_data",
          "data": {
            "text/plain": [
              "<Figure size 640x480 with 1 Axes>"
            ],
            "image/png": "[encoded data removed]"
          },
          "metadata": {}
        }
      ]
    },
    {
      "cell_type": "code",
      "source": [
        "from sklearn.preprocessing import Binarizer"
      ],
      "metadata": {
        "id": "XVMxvZLOPKk8"
      },
      "execution_count": 49,
      "outputs": []
    },
    {
      "cell_type": "code",
      "source": [
        "threshold_value = 0.87"
      ],
      "metadata": {
        "id": "0b_5RacYPOAh"
      },
      "execution_count": 54,
      "outputs": []
    },
    {
      "cell_type": "code",
      "source": [
        "Binarizer(threshold = threshold_value)\n",
        "predict_proba_col =best_model.predict_proba(X_test)[:, 1].reshape(-1, 1)"
      ],
      "metadata": {
        "id": "H9iN-iq0PU4L"
      },
      "execution_count": 60,
      "outputs": []
    },
    {
      "cell_type": "code",
      "source": [
        "custom_binarizer = Binarizer(threshold = threshold_value).fit(predict_proba_col)\n",
        "Y_test_proba = custom_binarizer.transform(predict_proba_col)"
      ],
      "metadata": {
        "id": "sDg7IUEFPveh"
      },
      "execution_count": 61,
      "outputs": []
    },
    {
      "cell_type": "code",
      "source": [
        "print(classification_report(Y_test, Y_test_proba))"
      ],
      "metadata": {
        "colab": {
          "base_uri": "https://localhost:8080/"
        },
        "id": "00dOuISTRBuZ",
        "outputId": "0d6b3f63-e26f-4d6b-f8fa-aba8c3b165d8"
      },
      "execution_count": 62,
      "outputs": [
        {
          "output_type": "stream",
          "name": "stdout",
          "text": [
            "              precision    recall  f1-score   support\n",
            "\n",
            "           0       0.99      0.96      0.98     12597\n",
            "           1       0.20      0.51      0.28       223\n",
            "\n",
            "    accuracy                           0.96     12820\n",
            "   macro avg       0.59      0.74      0.63     12820\n",
            "weighted avg       0.98      0.96      0.96     12820\n",
            "\n"
          ]
        }
      ]
    },
    {
      "cell_type": "code",
      "source": [],
      "metadata": {
        "id": "W1stoKe0RQQf"
      },
      "execution_count": null,
      "outputs": []
    }
  ]
}