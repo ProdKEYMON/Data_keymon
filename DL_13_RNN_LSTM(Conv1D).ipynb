{
  "nbformat": 4,
  "nbformat_minor": 0,
  "metadata": {
    "colab": {
      "provenance": [],
      "gpuType": "T4",
      "mount_file_id": "18lSbZkjPu6szS4frR9xo9RbPP6aNcgHc",
      "authorship_tag": "ABX9TyN3uxzMd2JClXKCmdH/c35L",
      "include_colab_link": true
    },
    "kernelspec": {
      "name": "python3",
      "display_name": "Python 3"
    },
    "language_info": {
      "name": "python"
    },
    "accelerator": "GPU"
  },
  "cells": [
    {
      "cell_type": "markdown",
      "metadata": {
        "id": "view-in-github",
        "colab_type": "text"
      },
      "source": [
        "<a href=\"https://colab.research.google.com/github/ProdKEYMON/Data_keymon/blob/main/DL_13_RNN_LSTM(Conv1D).ipynb\" target=\"_parent\"><img src=\"https://colab.research.google.com/assets/colab-badge.svg\" alt=\"Open In Colab\"/></a>"
      ]
    },
    {
      "cell_type": "code",
      "execution_count": 1,
      "metadata": {
        "colab": {
          "base_uri": "https://localhost:8080/"
        },
        "id": "zd4_o0lAoS6f",
        "outputId": "40792dc9-ee77-4bb0-e63f-a839625d0a51"
      },
      "outputs": [
        {
          "output_type": "stream",
          "name": "stdout",
          "text": [
            "/content/drive/MyDrive/Colab Notebooks/D.L\n"
          ]
        }
      ],
      "source": [
        "cd /content/drive/MyDrive/Colab Notebooks/D.L"
      ]
    },
    {
      "cell_type": "code",
      "source": [
        "!pip install keras"
      ],
      "metadata": {
        "colab": {
          "base_uri": "https://localhost:8080/"
        },
        "id": "ImZmgdHwEXyH",
        "outputId": "25ac8d6a-942e-475a-d4a8-96564da53040"
      },
      "execution_count": 4,
      "outputs": [
        {
          "output_type": "stream",
          "name": "stdout",
          "text": [
            "Requirement already satisfied: keras in /usr/local/lib/python3.10/dist-packages (2.15.0)\n"
          ]
        }
      ]
    },
    {
      "cell_type": "code",
      "source": [
        "!pip install attention"
      ],
      "metadata": {
        "colab": {
          "base_uri": "https://localhost:8080/"
        },
        "id": "etZ6SclsFKFm",
        "outputId": "57ed3ff5-692b-440a-ed6e-97f7f560aad5"
      },
      "execution_count": 10,
      "outputs": [
        {
          "output_type": "stream",
          "name": "stdout",
          "text": [
            "Collecting attention\n",
            "  Downloading attention-5.0.0-py3-none-any.whl (9.0 kB)\n",
            "Requirement already satisfied: numpy>=1.18.1 in /usr/local/lib/python3.10/dist-packages (from attention) (1.25.2)\n",
            "Requirement already satisfied: tensorflow>=2.1 in /usr/local/lib/python3.10/dist-packages (from attention) (2.15.0)\n",
            "Requirement already satisfied: absl-py>=1.0.0 in /usr/local/lib/python3.10/dist-packages (from tensorflow>=2.1->attention) (1.4.0)\n",
            "Requirement already satisfied: astunparse>=1.6.0 in /usr/local/lib/python3.10/dist-packages (from tensorflow>=2.1->attention) (1.6.3)\n",
            "Requirement already satisfied: flatbuffers>=23.5.26 in /usr/local/lib/python3.10/dist-packages (from tensorflow>=2.1->attention) (24.3.25)\n",
            "Requirement already satisfied: gast!=0.5.0,!=0.5.1,!=0.5.2,>=0.2.1 in /usr/local/lib/python3.10/dist-packages (from tensorflow>=2.1->attention) (0.5.4)\n",
            "Requirement already satisfied: google-pasta>=0.1.1 in /usr/local/lib/python3.10/dist-packages (from tensorflow>=2.1->attention) (0.2.0)\n",
            "Requirement already satisfied: h5py>=2.9.0 in /usr/local/lib/python3.10/dist-packages (from tensorflow>=2.1->attention) (3.9.0)\n",
            "Requirement already satisfied: libclang>=13.0.0 in /usr/local/lib/python3.10/dist-packages (from tensorflow>=2.1->attention) (18.1.1)\n",
            "Requirement already satisfied: ml-dtypes~=0.2.0 in /usr/local/lib/python3.10/dist-packages (from tensorflow>=2.1->attention) (0.2.0)\n",
            "Requirement already satisfied: opt-einsum>=2.3.2 in /usr/local/lib/python3.10/dist-packages (from tensorflow>=2.1->attention) (3.3.0)\n",
            "Requirement already satisfied: packaging in /usr/local/lib/python3.10/dist-packages (from tensorflow>=2.1->attention) (24.1)\n",
            "Requirement already satisfied: protobuf!=4.21.0,!=4.21.1,!=4.21.2,!=4.21.3,!=4.21.4,!=4.21.5,<5.0.0dev,>=3.20.3 in /usr/local/lib/python3.10/dist-packages (from tensorflow>=2.1->attention) (3.20.3)\n",
            "Requirement already satisfied: setuptools in /usr/local/lib/python3.10/dist-packages (from tensorflow>=2.1->attention) (67.7.2)\n",
            "Requirement already satisfied: six>=1.12.0 in /usr/local/lib/python3.10/dist-packages (from tensorflow>=2.1->attention) (1.16.0)\n",
            "Requirement already satisfied: termcolor>=1.1.0 in /usr/local/lib/python3.10/dist-packages (from tensorflow>=2.1->attention) (2.4.0)\n",
            "Requirement already satisfied: typing-extensions>=3.6.6 in /usr/local/lib/python3.10/dist-packages (from tensorflow>=2.1->attention) (4.12.2)\n",
            "Requirement already satisfied: wrapt<1.15,>=1.11.0 in /usr/local/lib/python3.10/dist-packages (from tensorflow>=2.1->attention) (1.14.1)\n",
            "Requirement already satisfied: tensorflow-io-gcs-filesystem>=0.23.1 in /usr/local/lib/python3.10/dist-packages (from tensorflow>=2.1->attention) (0.37.0)\n",
            "Requirement already satisfied: grpcio<2.0,>=1.24.3 in /usr/local/lib/python3.10/dist-packages (from tensorflow>=2.1->attention) (1.64.1)\n",
            "Requirement already satisfied: tensorboard<2.16,>=2.15 in /usr/local/lib/python3.10/dist-packages (from tensorflow>=2.1->attention) (2.15.2)\n",
            "Requirement already satisfied: tensorflow-estimator<2.16,>=2.15.0 in /usr/local/lib/python3.10/dist-packages (from tensorflow>=2.1->attention) (2.15.0)\n",
            "Requirement already satisfied: keras<2.16,>=2.15.0 in /usr/local/lib/python3.10/dist-packages (from tensorflow>=2.1->attention) (2.15.0)\n",
            "Requirement already satisfied: wheel<1.0,>=0.23.0 in /usr/local/lib/python3.10/dist-packages (from astunparse>=1.6.0->tensorflow>=2.1->attention) (0.43.0)\n",
            "Requirement already satisfied: google-auth<3,>=1.6.3 in /usr/local/lib/python3.10/dist-packages (from tensorboard<2.16,>=2.15->tensorflow>=2.1->attention) (2.27.0)\n",
            "Requirement already satisfied: google-auth-oauthlib<2,>=0.5 in /usr/local/lib/python3.10/dist-packages (from tensorboard<2.16,>=2.15->tensorflow>=2.1->attention) (1.2.0)\n",
            "Requirement already satisfied: markdown>=2.6.8 in /usr/local/lib/python3.10/dist-packages (from tensorboard<2.16,>=2.15->tensorflow>=2.1->attention) (3.6)\n",
            "Requirement already satisfied: requests<3,>=2.21.0 in /usr/local/lib/python3.10/dist-packages (from tensorboard<2.16,>=2.15->tensorflow>=2.1->attention) (2.31.0)\n",
            "Requirement already satisfied: tensorboard-data-server<0.8.0,>=0.7.0 in /usr/local/lib/python3.10/dist-packages (from tensorboard<2.16,>=2.15->tensorflow>=2.1->attention) (0.7.2)\n",
            "Requirement already satisfied: werkzeug>=1.0.1 in /usr/local/lib/python3.10/dist-packages (from tensorboard<2.16,>=2.15->tensorflow>=2.1->attention) (3.0.3)\n",
            "Requirement already satisfied: cachetools<6.0,>=2.0.0 in /usr/local/lib/python3.10/dist-packages (from google-auth<3,>=1.6.3->tensorboard<2.16,>=2.15->tensorflow>=2.1->attention) (5.3.3)\n",
            "Requirement already satisfied: pyasn1-modules>=0.2.1 in /usr/local/lib/python3.10/dist-packages (from google-auth<3,>=1.6.3->tensorboard<2.16,>=2.15->tensorflow>=2.1->attention) (0.4.0)\n",
            "Requirement already satisfied: rsa<5,>=3.1.4 in /usr/local/lib/python3.10/dist-packages (from google-auth<3,>=1.6.3->tensorboard<2.16,>=2.15->tensorflow>=2.1->attention) (4.9)\n",
            "Requirement already satisfied: requests-oauthlib>=0.7.0 in /usr/local/lib/python3.10/dist-packages (from google-auth-oauthlib<2,>=0.5->tensorboard<2.16,>=2.15->tensorflow>=2.1->attention) (1.3.1)\n",
            "Requirement already satisfied: charset-normalizer<4,>=2 in /usr/local/lib/python3.10/dist-packages (from requests<3,>=2.21.0->tensorboard<2.16,>=2.15->tensorflow>=2.1->attention) (3.3.2)\n",
            "Requirement already satisfied: idna<4,>=2.5 in /usr/local/lib/python3.10/dist-packages (from requests<3,>=2.21.0->tensorboard<2.16,>=2.15->tensorflow>=2.1->attention) (3.7)\n",
            "Requirement already satisfied: urllib3<3,>=1.21.1 in /usr/local/lib/python3.10/dist-packages (from requests<3,>=2.21.0->tensorboard<2.16,>=2.15->tensorflow>=2.1->attention) (2.0.7)\n",
            "Requirement already satisfied: certifi>=2017.4.17 in /usr/local/lib/python3.10/dist-packages (from requests<3,>=2.21.0->tensorboard<2.16,>=2.15->tensorflow>=2.1->attention) (2024.6.2)\n",
            "Requirement already satisfied: MarkupSafe>=2.1.1 in /usr/local/lib/python3.10/dist-packages (from werkzeug>=1.0.1->tensorboard<2.16,>=2.15->tensorflow>=2.1->attention) (2.1.5)\n",
            "Requirement already satisfied: pyasn1<0.7.0,>=0.4.6 in /usr/local/lib/python3.10/dist-packages (from pyasn1-modules>=0.2.1->google-auth<3,>=1.6.3->tensorboard<2.16,>=2.15->tensorflow>=2.1->attention) (0.6.0)\n",
            "Requirement already satisfied: oauthlib>=3.0.0 in /usr/local/lib/python3.10/dist-packages (from requests-oauthlib>=0.7.0->google-auth-oauthlib<2,>=0.5->tensorboard<2.16,>=2.15->tensorflow>=2.1->attention) (3.2.2)\n",
            "Installing collected packages: attention\n",
            "Successfully installed attention-5.0.0\n"
          ]
        }
      ]
    },
    {
      "cell_type": "code",
      "source": [
        "import numpy as np\n",
        "import pandas as pd\n",
        "import matplotlib.pyplot as plt\n",
        "import tensorflow as tf\n",
        "\n",
        "from tensorflow.keras.models import Sequential\n",
        "from tensorflow.keras.layers import Dense, LSTM, Dropout, SimpleRNN, Embedding, Conv1D, MaxPooling1D\n",
        "from tensorflow.keras.optimizers import Adam\n",
        "from tensorflow.keras.utils import to_categorical, plot_model\n",
        "from tensorflow.keras.preprocessing import sequence\n",
        "from tensorflow.keras.callbacks import EarlyStopping, ModelCheckpoint\n",
        "\n",
        "from tensorflow.keras.datasets import reuters, imdb\n",
        "\n",
        "from attention import Attention\n",
        "\n",
        "from sklearn.model_selection import train_test_split\n"
      ],
      "metadata": {
        "id": "XY-T1jKxDrg3"
      },
      "execution_count": 2,
      "outputs": []
    },
    {
      "cell_type": "markdown",
      "source": [
        "# RNN (순환신경망)"
      ],
      "metadata": {
        "id": "pCzN-RdgDi0m"
      }
    },
    {
      "cell_type": "code",
      "source": [
        "# 데이터 가져오기\n",
        "\n",
        "# 하이퍼 파라미터 설정\n",
        "vocab_size = 10000 # 어휘 사전 크기\n",
        "max_len = 200 # sequence 최대 길이\n",
        "embedding_dim = 32 # 임베딩 (문자 >> 숫자) 차원\n",
        "batch_size = 64 # 배치크기\n",
        "epochs = 5 # 학습 횟수\n",
        "\n",
        "# 데이터 가져오기\n",
        "(x_train, y_train), (x_test, y_test) = \\\n",
        "imdb.load_data(num_words=vocab_size)"
      ],
      "metadata": {
        "id": "V_9MtKIaDpgu"
      },
      "execution_count": 3,
      "outputs": []
    },
    {
      "cell_type": "code",
      "source": [
        "sequence.pad_sequences(x_train, maxlen=max_len)"
      ],
      "metadata": {
        "colab": {
          "base_uri": "https://localhost:8080/"
        },
        "id": "ScrxksbUMKl_",
        "outputId": "6b896b4b-3ce3-408b-c09c-a71e35d08775"
      },
      "execution_count": 4,
      "outputs": [
        {
          "output_type": "execute_result",
          "data": {
            "text/plain": [
              "array([[   5,   25,  100, ...,   19,  178,   32],\n",
              "       [   0,    0,    0, ...,   16,  145,   95],\n",
              "       [   0,    0,    0, ...,    7,  129,  113],\n",
              "       ...,\n",
              "       [   0,    0,    0, ...,    4, 3586,    2],\n",
              "       [   0,    0,    0, ...,   12,    9,   23],\n",
              "       [   0,    0,    0, ...,  204,  131,    9]], dtype=int32)"
            ]
          },
          "metadata": {},
          "execution_count": 4
        }
      ]
    },
    {
      "cell_type": "code",
      "source": [
        "print(x_train)"
      ],
      "metadata": {
        "colab": {
          "base_uri": "https://localhost:8080/"
        },
        "id": "W1hEGPQAHZp2",
        "outputId": "b9e8c55d-ea83-479c-e653-8e4dccf4052e"
      },
      "execution_count": 5,
      "outputs": [
        {
          "output_type": "stream",
          "name": "stdout",
          "text": [
            "[list([1, 14, 22, 16, 43, 530, 973, 1622, 1385, 65, 458, 4468, 66, 3941, 4, 173, 36, 256, 5, 25, 100, 43, 838, 112, 50, 670, 2, 9, 35, 480, 284, 5, 150, 4, 172, 112, 167, 2, 336, 385, 39, 4, 172, 4536, 1111, 17, 546, 38, 13, 447, 4, 192, 50, 16, 6, 147, 2025, 19, 14, 22, 4, 1920, 4613, 469, 4, 22, 71, 87, 12, 16, 43, 530, 38, 76, 15, 13, 1247, 4, 22, 17, 515, 17, 12, 16, 626, 18, 2, 5, 62, 386, 12, 8, 316, 8, 106, 5, 4, 2223, 5244, 16, 480, 66, 3785, 33, 4, 130, 12, 16, 38, 619, 5, 25, 124, 51, 36, 135, 48, 25, 1415, 33, 6, 22, 12, 215, 28, 77, 52, 5, 14, 407, 16, 82, 2, 8, 4, 107, 117, 5952, 15, 256, 4, 2, 7, 3766, 5, 723, 36, 71, 43, 530, 476, 26, 400, 317, 46, 7, 4, 2, 1029, 13, 104, 88, 4, 381, 15, 297, 98, 32, 2071, 56, 26, 141, 6, 194, 7486, 18, 4, 226, 22, 21, 134, 476, 26, 480, 5, 144, 30, 5535, 18, 51, 36, 28, 224, 92, 25, 104, 4, 226, 65, 16, 38, 1334, 88, 12, 16, 283, 5, 16, 4472, 113, 103, 32, 15, 16, 5345, 19, 178, 32])\n",
            " list([1, 194, 1153, 194, 8255, 78, 228, 5, 6, 1463, 4369, 5012, 134, 26, 4, 715, 8, 118, 1634, 14, 394, 20, 13, 119, 954, 189, 102, 5, 207, 110, 3103, 21, 14, 69, 188, 8, 30, 23, 7, 4, 249, 126, 93, 4, 114, 9, 2300, 1523, 5, 647, 4, 116, 9, 35, 8163, 4, 229, 9, 340, 1322, 4, 118, 9, 4, 130, 4901, 19, 4, 1002, 5, 89, 29, 952, 46, 37, 4, 455, 9, 45, 43, 38, 1543, 1905, 398, 4, 1649, 26, 6853, 5, 163, 11, 3215, 2, 4, 1153, 9, 194, 775, 7, 8255, 2, 349, 2637, 148, 605, 2, 8003, 15, 123, 125, 68, 2, 6853, 15, 349, 165, 4362, 98, 5, 4, 228, 9, 43, 2, 1157, 15, 299, 120, 5, 120, 174, 11, 220, 175, 136, 50, 9, 4373, 228, 8255, 5, 2, 656, 245, 2350, 5, 4, 9837, 131, 152, 491, 18, 2, 32, 7464, 1212, 14, 9, 6, 371, 78, 22, 625, 64, 1382, 9, 8, 168, 145, 23, 4, 1690, 15, 16, 4, 1355, 5, 28, 6, 52, 154, 462, 33, 89, 78, 285, 16, 145, 95])\n",
            " list([1, 14, 47, 8, 30, 31, 7, 4, 249, 108, 7, 4, 5974, 54, 61, 369, 13, 71, 149, 14, 22, 112, 4, 2401, 311, 12, 16, 3711, 33, 75, 43, 1829, 296, 4, 86, 320, 35, 534, 19, 263, 4821, 1301, 4, 1873, 33, 89, 78, 12, 66, 16, 4, 360, 7, 4, 58, 316, 334, 11, 4, 1716, 43, 645, 662, 8, 257, 85, 1200, 42, 1228, 2578, 83, 68, 3912, 15, 36, 165, 1539, 278, 36, 69, 2, 780, 8, 106, 14, 6905, 1338, 18, 6, 22, 12, 215, 28, 610, 40, 6, 87, 326, 23, 2300, 21, 23, 22, 12, 272, 40, 57, 31, 11, 4, 22, 47, 6, 2307, 51, 9, 170, 23, 595, 116, 595, 1352, 13, 191, 79, 638, 89, 2, 14, 9, 8, 106, 607, 624, 35, 534, 6, 227, 7, 129, 113])\n",
            " ...\n",
            " list([1, 11, 6, 230, 245, 6401, 9, 6, 1225, 446, 2, 45, 2174, 84, 8322, 4007, 21, 4, 912, 84, 2, 325, 725, 134, 2, 1715, 84, 5, 36, 28, 57, 1099, 21, 8, 140, 8, 703, 5, 2, 84, 56, 18, 1644, 14, 9, 31, 7, 4, 9406, 1209, 2295, 2, 1008, 18, 6, 20, 207, 110, 563, 12, 8, 2901, 2, 8, 97, 6, 20, 53, 4767, 74, 4, 460, 364, 1273, 29, 270, 11, 960, 108, 45, 40, 29, 2961, 395, 11, 6, 4065, 500, 7, 2, 89, 364, 70, 29, 140, 4, 64, 4780, 11, 4, 2678, 26, 178, 4, 529, 443, 2, 5, 27, 710, 117, 2, 8123, 165, 47, 84, 37, 131, 818, 14, 595, 10, 10, 61, 1242, 1209, 10, 10, 288, 2260, 1702, 34, 2901, 2, 4, 65, 496, 4, 231, 7, 790, 5, 6, 320, 234, 2766, 234, 1119, 1574, 7, 496, 4, 139, 929, 2901, 2, 7750, 5, 4241, 18, 4, 8497, 2, 250, 11, 1818, 7561, 4, 4217, 5408, 747, 1115, 372, 1890, 1006, 541, 9303, 7, 4, 59, 2, 4, 3586, 2])\n",
            " list([1, 1446, 7079, 69, 72, 3305, 13, 610, 930, 8, 12, 582, 23, 5, 16, 484, 685, 54, 349, 11, 4120, 2959, 45, 58, 1466, 13, 197, 12, 16, 43, 23, 2, 5, 62, 30, 145, 402, 11, 4131, 51, 575, 32, 61, 369, 71, 66, 770, 12, 1054, 75, 100, 2198, 8, 4, 105, 37, 69, 147, 712, 75, 3543, 44, 257, 390, 5, 69, 263, 514, 105, 50, 286, 1814, 23, 4, 123, 13, 161, 40, 5, 421, 4, 116, 16, 897, 13, 2, 40, 319, 5872, 112, 6700, 11, 4803, 121, 25, 70, 3468, 4, 719, 3798, 13, 18, 31, 62, 40, 8, 7200, 4, 2, 7, 14, 123, 5, 942, 25, 8, 721, 12, 145, 5, 202, 12, 160, 580, 202, 12, 6, 52, 58, 2, 92, 401, 728, 12, 39, 14, 251, 8, 15, 251, 5, 2, 12, 38, 84, 80, 124, 12, 9, 23])\n",
            " list([1, 17, 6, 194, 337, 7, 4, 204, 22, 45, 254, 8, 106, 14, 123, 4, 2, 270, 2, 5, 2, 2, 732, 2098, 101, 405, 39, 14, 1034, 4, 1310, 9, 115, 50, 305, 12, 47, 4, 168, 5, 235, 7, 38, 111, 699, 102, 7, 4, 4039, 9245, 9, 24, 6, 78, 1099, 17, 2345, 2, 21, 27, 9685, 6139, 5, 2, 1603, 92, 1183, 4, 1310, 7, 4, 204, 42, 97, 90, 35, 221, 109, 29, 127, 27, 118, 8, 97, 12, 157, 21, 6789, 2, 9, 6, 66, 78, 1099, 4, 631, 1191, 5, 2642, 272, 191, 1070, 6, 7585, 8, 2197, 2, 2, 544, 5, 383, 1271, 848, 1468, 2, 497, 2, 8, 1597, 8778, 2, 21, 60, 27, 239, 9, 43, 8368, 209, 405, 10, 10, 12, 764, 40, 4, 248, 20, 12, 16, 5, 174, 1791, 72, 7, 51, 6, 1739, 22, 4, 204, 131, 9])]\n"
          ]
        }
      ]
    },
    {
      "cell_type": "code",
      "source": [
        "print(y_train[:10])"
      ],
      "metadata": {
        "colab": {
          "base_uri": "https://localhost:8080/"
        },
        "id": "2gnMJl6HHhB_",
        "outputId": "a49ba028-48c5-458e-93fb-0914b8c9122a"
      },
      "execution_count": 6,
      "outputs": [
        {
          "output_type": "stream",
          "name": "stdout",
          "text": [
            "[1 0 0 1 0 0 1 0 1 0]\n"
          ]
        }
      ]
    },
    {
      "cell_type": "code",
      "source": [
        "sequence.pad_sequences(x_train, maxlen= 50)"
      ],
      "metadata": {
        "colab": {
          "base_uri": "https://localhost:8080/"
        },
        "id": "RJ_czNmyIYwg",
        "outputId": "99ed7594-dc14-4b1d-b077-16e1a103ee75"
      },
      "execution_count": 7,
      "outputs": [
        {
          "output_type": "execute_result",
          "data": {
            "text/plain": [
              "array([[2071,   56,   26, ...,   19,  178,   32],\n",
              "       [8255,    5,    2, ...,   16,  145,   95],\n",
              "       [ 215,   28,  610, ...,    7,  129,  113],\n",
              "       ...,\n",
              "       [   4,   65,  496, ...,    4, 3586,    2],\n",
              "       [  13,   18,   31, ...,   12,    9,   23],\n",
              "       [7585,    8, 2197, ...,  204,  131,    9]], dtype=int32)"
            ]
          },
          "metadata": {},
          "execution_count": 7
        }
      ]
    },
    {
      "cell_type": "code",
      "source": [
        "sequence.pad_sequences(x_train, maxlen= 200)\n",
        "# 0의 의미? zero-padding으로서 최대의 길에 200에 맞춰서 부족한 부분들을 0으로 채움"
      ],
      "metadata": {
        "colab": {
          "base_uri": "https://localhost:8080/"
        },
        "id": "2wLUOG5rIPE3",
        "outputId": "67724bd9-4578-4569-b7cf-253dc7cee479"
      },
      "execution_count": 8,
      "outputs": [
        {
          "output_type": "execute_result",
          "data": {
            "text/plain": [
              "array([[   5,   25,  100, ...,   19,  178,   32],\n",
              "       [   0,    0,    0, ...,   16,  145,   95],\n",
              "       [   0,    0,    0, ...,    7,  129,  113],\n",
              "       ...,\n",
              "       [   0,    0,    0, ...,    4, 3586,    2],\n",
              "       [   0,    0,    0, ...,   12,    9,   23],\n",
              "       [   0,    0,    0, ...,  204,  131,    9]], dtype=int32)"
            ]
          },
          "metadata": {},
          "execution_count": 8
        }
      ]
    },
    {
      "cell_type": "code",
      "source": [
        "# sequence padding\n",
        "x_train = sequence.pad_sequences(x_train, maxlen=max_len)\n",
        "x_test = sequence.pad_sequences(x_test, maxlen=max_len)"
      ],
      "metadata": {
        "id": "4GQIXqP_H_M_"
      },
      "execution_count": 9,
      "outputs": []
    },
    {
      "cell_type": "code",
      "source": [
        "type(x_train)"
      ],
      "metadata": {
        "colab": {
          "base_uri": "https://localhost:8080/"
        },
        "id": "sJ1x50dVH_LH",
        "outputId": "bfaa1556-23ce-49f0-e30a-62fcb8596a26"
      },
      "execution_count": 10,
      "outputs": [
        {
          "output_type": "execute_result",
          "data": {
            "text/plain": [
              "numpy.ndarray"
            ]
          },
          "metadata": {},
          "execution_count": 10
        }
      ]
    },
    {
      "cell_type": "code",
      "source": [
        "# 모델생성(RNN)\n",
        "model = Sequential()\n",
        "model.add(Embedding(vocab_size, embedding_dim, input_length=max_len))\n",
        "model.add(SimpleRNN(32, return_sequences = False))\n",
        "model.add(Dense(1, activation='sigmoid'))\n",
        "\n",
        "# return_sequences = False\n",
        "'''\n",
        "RNN 계층 전체 sequence 대한 학습을 수행, 처리한 후, 마지막 time step 출력만 다음 층 (next layer)전달\n",
        "즉, 최종상태 (context vector 문맥 젝터)를 출력 기반으로 분류\n",
        "\n",
        "이와는 달리\n",
        "return_sequences = True 일 경우, 각 time step 출력 반환, 이를 다음 RNN계층이 입력으로 사용\n",
        "RNN 계층을 여러 개 쌓을 때 이를 활용\n",
        "'''"
      ],
      "metadata": {
        "colab": {
          "base_uri": "https://localhost:8080/",
          "height": 72
        },
        "id": "1NUPvlFkH_I2",
        "outputId": "7b761769-c723-4dcb-d587-56b6e65c68b0"
      },
      "execution_count": 11,
      "outputs": [
        {
          "output_type": "execute_result",
          "data": {
            "text/plain": [
              "'\\nRNN 계층 전체 sequence 대한 학습을 수행, 처리한 후, 마지막 time step 출력만 다음 층 (next layer)전달\\n즉, 최종상태 (context vector 문맥 젝터)를 출력 기반으로 분류\\n\\n이와는 달리\\nreturn_sequences = True 일 경우, 각 time step 출력 반환, 이를 다음 RNN계층이 입력으로 사용\\nRNN 계층을 여러 개 쌓을 때 이를 활용\\n'"
            ],
            "application/vnd.google.colaboratory.intrinsic+json": {
              "type": "string"
            }
          },
          "metadata": {},
          "execution_count": 11
        }
      ]
    },
    {
      "cell_type": "code",
      "source": [
        "# 모델 컴파일 (학습 환경 설정)\n",
        "model.compile(loss = 'binary_crossentropy', optimizer= 'adam', metrics=['accuracy'] )"
      ],
      "metadata": {
        "id": "0gdjqYg3H_GR"
      },
      "execution_count": 12,
      "outputs": []
    },
    {
      "cell_type": "code",
      "source": [
        "early_stopping_callback = EarlyStopping(monitor='val_loss', patience=2)"
      ],
      "metadata": {
        "id": "5f8O0do1m19O"
      },
      "execution_count": 13,
      "outputs": []
    },
    {
      "cell_type": "code",
      "source": [
        "history = model.fit(x_train, y_train, batch_size=batch_size, epochs=epochs, validation_data=(x_train, y_train), callbacks= [early_stopping_callback])"
      ],
      "metadata": {
        "colab": {
          "base_uri": "https://localhost:8080/"
        },
        "id": "WEBzkMdHH_Ee",
        "outputId": "3b52f877-2674-4f06-b15c-9335a446864a"
      },
      "execution_count": 14,
      "outputs": [
        {
          "output_type": "stream",
          "name": "stdout",
          "text": [
            "Epoch 1/5\n",
            "391/391 [==============================] - 125s 313ms/step - loss: 0.5884 - accuracy: 0.6678 - val_loss: 0.4000 - val_accuracy: 0.8388\n",
            "Epoch 2/5\n",
            "391/391 [==============================] - 87s 223ms/step - loss: 0.3874 - accuracy: 0.8302 - val_loss: 0.4988 - val_accuracy: 0.7522\n",
            "Epoch 3/5\n",
            "391/391 [==============================] - 81s 207ms/step - loss: 0.2922 - accuracy: 0.8776 - val_loss: 0.1391 - val_accuracy: 0.9598\n",
            "Epoch 4/5\n",
            "391/391 [==============================] - 80s 206ms/step - loss: 0.1421 - accuracy: 0.9506 - val_loss: 0.0887 - val_accuracy: 0.9796\n",
            "Epoch 5/5\n",
            "391/391 [==============================] - 81s 207ms/step - loss: 0.0761 - accuracy: 0.9755 - val_loss: 0.0321 - val_accuracy: 0.9955\n"
          ]
        }
      ]
    },
    {
      "cell_type": "code",
      "source": [
        "print('텍스트 정확도: %.4f'%(model.evaluate(x_test, y_test)[1]))"
      ],
      "metadata": {
        "id": "6XFkH0Q7H_Be"
      },
      "execution_count": null,
      "outputs": []
    },
    {
      "cell_type": "code",
      "source": [],
      "metadata": {
        "id": "4_AkxRNmH--u"
      },
      "execution_count": null,
      "outputs": []
    },
    {
      "cell_type": "code",
      "source": [],
      "metadata": {
        "id": "1PKQqMNLH-02"
      },
      "execution_count": null,
      "outputs": []
    },
    {
      "cell_type": "markdown",
      "source": [
        "# LSTM"
      ],
      "metadata": {
        "id": "VUlGqAwpDmGn"
      }
    },
    {
      "cell_type": "code",
      "source": [
        "# 데이터 가져오기\n",
        "(x_train, y_train), (x_test, y_test) = \\\n",
        "reuters.load_data(num_words=1000, test_split=0.2)\n",
        "# num_words = 1000 빈도수가 큰 것을 기준으로 구분된 1000개, train/test 비율: 8:2"
      ],
      "metadata": {
        "id": "OQ3JamImpVFn"
      },
      "execution_count": 15,
      "outputs": []
    },
    {
      "cell_type": "code",
      "source": [
        "# 데이터 확인\n",
        "category = np.max(y_train) +1\n",
        "# index가 0부터 시작하니까\n",
        "print(category, '종류')\n",
        "print(len(x_train), '학습용 뉴스 기사')\n",
        "print(len(x_test), '테스트용 뉴스 기사')\n"
      ],
      "metadata": {
        "colab": {
          "base_uri": "https://localhost:8080/"
        },
        "id": "lrVAvawPky8f",
        "outputId": "13202e12-7ed1-4c50-bacc-34bbe5601037"
      },
      "execution_count": 16,
      "outputs": [
        {
          "output_type": "stream",
          "name": "stdout",
          "text": [
            "46 종류\n",
            "8982 학습용 뉴스 기사\n",
            "2246 테스트용 뉴스 기사\n"
          ]
        }
      ]
    },
    {
      "cell_type": "code",
      "source": [
        "x_train = sequence.pad_sequences(x_train, maxlen=100)\n",
        "x_test = sequence.pad_sequences(x_test, maxlen=100)\n",
        "print(x_train[0])"
      ],
      "metadata": {
        "colab": {
          "base_uri": "https://localhost:8080/"
        },
        "id": "g7l_3c9alVkK",
        "outputId": "e1f909bc-e209-4a0d-9b31-8aeff9e966d9"
      },
      "execution_count": 17,
      "outputs": [
        {
          "output_type": "stream",
          "name": "stdout",
          "text": [
            "[  0   0   0   0   0   0   0   0   0   0   0   0   0   1   2   2   8  43\n",
            "  10 447   5  25 207 270   5   2 111  16 369 186  90  67   7  89   5  19\n",
            " 102   6  19 124  15  90  67  84  22 482  26   7  48   4  49   8 864  39\n",
            " 209 154   6 151   6  83  11  15  22 155  11  15   7  48   9   2   2 504\n",
            "   6 258   6 272  11  15  22 134  44  11  15  16   8 197   2  90  67  52\n",
            "  29 209  30  32 132   6 109  15  17  12]\n"
          ]
        }
      ]
    },
    {
      "cell_type": "code",
      "source": [
        "# one - hot encoding 전처리\n",
        "y_train = to_categorical(y_train)\n",
        "y_test = to_categorical(y_test)"
      ],
      "metadata": {
        "id": "ZTZkGQ0_lov-"
      },
      "execution_count": 18,
      "outputs": []
    },
    {
      "cell_type": "code",
      "source": [
        "# 모델 구조\n",
        "model = Sequential()\n",
        "model.add(Embedding(1000,100))\n",
        "model.add(LSTM(100, activation = 'tanh'))\n",
        "# LSTM 은 tanh 을 좋아해\n",
        "model.add(Dense(46, activation='softmax'))\n",
        "# why 'softmax'? >> 46카테고리로 분류 (다중 분류)"
      ],
      "metadata": {
        "id": "Fa7wdd-WGcXf"
      },
      "execution_count": 19,
      "outputs": []
    },
    {
      "cell_type": "code",
      "source": [
        "# 모델 컴파일\n",
        "model.compile(loss='categorical_crossentropy', optimizer='adam', metrics=['accuracy'])"
      ],
      "metadata": {
        "id": "IniGnakdkLnA"
      },
      "execution_count": 20,
      "outputs": []
    },
    {
      "cell_type": "code",
      "source": [
        "# 학습의 조기 중단 설정\n",
        "early_stopping_callback = EarlyStopping(monitor='val_loss', patience=2)\n",
        "\n",
        "# 모델 실행"
      ],
      "metadata": {
        "id": "QkFgTzCcmfCU"
      },
      "execution_count": 21,
      "outputs": []
    },
    {
      "cell_type": "code",
      "source": [
        "history = model.fit(x_train, y_train, batch_size=20, epochs=100, validation_data=(x_train, y_train), callbacks=[early_stopping_callback])"
      ],
      "metadata": {
        "colab": {
          "base_uri": "https://localhost:8080/"
        },
        "id": "Vu194ClqnNJe",
        "outputId": "10aa7a28-1e78-436f-b51a-42a7a637e0df"
      },
      "execution_count": 22,
      "outputs": [
        {
          "output_type": "stream",
          "name": "stdout",
          "text": [
            "Epoch 1/100\n",
            "450/450 [==============================] - 28s 56ms/step - loss: 2.1302 - accuracy: 0.4588 - val_loss: 2.1158 - val_accuracy: 0.5085\n",
            "Epoch 2/100\n",
            "450/450 [==============================] - 7s 15ms/step - loss: 1.8012 - accuracy: 0.5375 - val_loss: 1.6672 - val_accuracy: 0.5645\n",
            "Epoch 3/100\n",
            "450/450 [==============================] - 7s 16ms/step - loss: 1.7379 - accuracy: 0.5607 - val_loss: 1.7040 - val_accuracy: 0.5559\n",
            "Epoch 4/100\n",
            "450/450 [==============================] - 6s 14ms/step - loss: 1.6540 - accuracy: 0.5731 - val_loss: 1.5631 - val_accuracy: 0.5929\n",
            "Epoch 5/100\n",
            "450/450 [==============================] - 5s 12ms/step - loss: 1.5565 - accuracy: 0.5921 - val_loss: 1.4692 - val_accuracy: 0.6126\n",
            "Epoch 6/100\n",
            "450/450 [==============================] - 5s 12ms/step - loss: 1.4394 - accuracy: 0.6244 - val_loss: 1.3221 - val_accuracy: 0.6597\n",
            "Epoch 7/100\n",
            "450/450 [==============================] - 5s 11ms/step - loss: 1.2835 - accuracy: 0.6742 - val_loss: 1.1912 - val_accuracy: 0.6927\n",
            "Epoch 8/100\n",
            "450/450 [==============================] - 6s 13ms/step - loss: 1.1890 - accuracy: 0.6959 - val_loss: 1.1651 - val_accuracy: 0.6978\n",
            "Epoch 9/100\n",
            "450/450 [==============================] - 6s 13ms/step - loss: 1.1199 - accuracy: 0.7134 - val_loss: 1.0759 - val_accuracy: 0.7231\n",
            "Epoch 10/100\n",
            "450/450 [==============================] - 5s 12ms/step - loss: 1.0456 - accuracy: 0.7356 - val_loss: 0.9656 - val_accuracy: 0.7593\n",
            "Epoch 11/100\n",
            "450/450 [==============================] - 5s 11ms/step - loss: 0.9704 - accuracy: 0.7506 - val_loss: 0.8868 - val_accuracy: 0.7728\n",
            "Epoch 12/100\n",
            "450/450 [==============================] - 5s 11ms/step - loss: 0.9003 - accuracy: 0.7705 - val_loss: 0.8468 - val_accuracy: 0.7840\n",
            "Epoch 13/100\n",
            "450/450 [==============================] - 7s 16ms/step - loss: 0.8411 - accuracy: 0.7876 - val_loss: 0.7605 - val_accuracy: 0.8051\n",
            "Epoch 14/100\n",
            "450/450 [==============================] - 6s 14ms/step - loss: 0.7860 - accuracy: 0.7979 - val_loss: 0.7087 - val_accuracy: 0.8149\n",
            "Epoch 15/100\n",
            "450/450 [==============================] - 6s 14ms/step - loss: 0.7375 - accuracy: 0.8108 - val_loss: 0.6514 - val_accuracy: 0.8377\n",
            "Epoch 16/100\n",
            "450/450 [==============================] - 6s 13ms/step - loss: 0.6815 - accuracy: 0.8291 - val_loss: 0.6280 - val_accuracy: 0.8461\n",
            "Epoch 17/100\n",
            "450/450 [==============================] - 5s 11ms/step - loss: 0.6375 - accuracy: 0.8395 - val_loss: 0.5653 - val_accuracy: 0.8617\n",
            "Epoch 18/100\n",
            "450/450 [==============================] - 5s 12ms/step - loss: 0.5843 - accuracy: 0.8542 - val_loss: 0.5084 - val_accuracy: 0.8722\n",
            "Epoch 19/100\n",
            "450/450 [==============================] - 4s 10ms/step - loss: 0.5402 - accuracy: 0.8598 - val_loss: 0.4735 - val_accuracy: 0.8818\n",
            "Epoch 20/100\n",
            "450/450 [==============================] - 6s 13ms/step - loss: 0.5010 - accuracy: 0.8739 - val_loss: 0.4209 - val_accuracy: 0.8911\n",
            "Epoch 21/100\n",
            "450/450 [==============================] - 5s 11ms/step - loss: 0.4607 - accuracy: 0.8820 - val_loss: 0.3912 - val_accuracy: 0.8999\n",
            "Epoch 22/100\n",
            "450/450 [==============================] - 6s 13ms/step - loss: 0.4257 - accuracy: 0.8911 - val_loss: 0.3566 - val_accuracy: 0.9090\n",
            "Epoch 23/100\n",
            "450/450 [==============================] - 6s 12ms/step - loss: 0.3894 - accuracy: 0.8978 - val_loss: 0.3317 - val_accuracy: 0.9177\n",
            "Epoch 24/100\n",
            "450/450 [==============================] - 5s 11ms/step - loss: 0.3680 - accuracy: 0.9049 - val_loss: 0.2952 - val_accuracy: 0.9256\n",
            "Epoch 25/100\n",
            "450/450 [==============================] - 6s 14ms/step - loss: 0.3281 - accuracy: 0.9147 - val_loss: 0.2828 - val_accuracy: 0.9269\n",
            "Epoch 26/100\n",
            "450/450 [==============================] - 7s 15ms/step - loss: 0.3104 - accuracy: 0.9157 - val_loss: 0.2588 - val_accuracy: 0.9319\n",
            "Epoch 27/100\n",
            "450/450 [==============================] - 4s 10ms/step - loss: 0.2794 - accuracy: 0.9256 - val_loss: 0.2359 - val_accuracy: 0.9415\n",
            "Epoch 28/100\n",
            "450/450 [==============================] - 6s 13ms/step - loss: 0.2652 - accuracy: 0.9294 - val_loss: 0.2192 - val_accuracy: 0.9398\n",
            "Epoch 29/100\n",
            "450/450 [==============================] - 6s 13ms/step - loss: 0.2470 - accuracy: 0.9308 - val_loss: 0.2028 - val_accuracy: 0.9448\n",
            "Epoch 30/100\n",
            "450/450 [==============================] - 8s 17ms/step - loss: 0.2281 - accuracy: 0.9336 - val_loss: 0.1869 - val_accuracy: 0.9485\n",
            "Epoch 31/100\n",
            "450/450 [==============================] - 8s 17ms/step - loss: 0.2120 - accuracy: 0.9382 - val_loss: 0.1857 - val_accuracy: 0.9442\n",
            "Epoch 32/100\n",
            "450/450 [==============================] - 7s 16ms/step - loss: 0.2065 - accuracy: 0.9370 - val_loss: 0.1751 - val_accuracy: 0.9481\n",
            "Epoch 33/100\n",
            "450/450 [==============================] - 7s 15ms/step - loss: 0.1952 - accuracy: 0.9401 - val_loss: 0.1462 - val_accuracy: 0.9557\n",
            "Epoch 34/100\n",
            "450/450 [==============================] - 9s 19ms/step - loss: 0.1740 - accuracy: 0.9463 - val_loss: 0.1430 - val_accuracy: 0.9554\n",
            "Epoch 35/100\n",
            "450/450 [==============================] - 5s 12ms/step - loss: 0.1615 - accuracy: 0.9468 - val_loss: 0.1261 - val_accuracy: 0.9574\n",
            "Epoch 36/100\n",
            "450/450 [==============================] - 6s 14ms/step - loss: 0.1549 - accuracy: 0.9459 - val_loss: 0.1288 - val_accuracy: 0.9579\n",
            "Epoch 37/100\n",
            "450/450 [==============================] - 8s 18ms/step - loss: 0.1603 - accuracy: 0.9473 - val_loss: 0.1353 - val_accuracy: 0.9547\n"
          ]
        }
      ]
    },
    {
      "cell_type": "code",
      "source": [
        "print('텍스트 정확도: %.4f'%(model.evaluate(x_test, y_test)[1]))"
      ],
      "metadata": {
        "colab": {
          "base_uri": "https://localhost:8080/"
        },
        "id": "vR0iMNywnfn_",
        "outputId": "40728e9e-f4c2-44cc-c683-6bbbf6625e79"
      },
      "execution_count": 23,
      "outputs": [
        {
          "output_type": "stream",
          "name": "stdout",
          "text": [
            "71/71 [==============================] - 1s 8ms/step - loss: 1.8678 - accuracy: 0.6937\n",
            "텍스트 정확도: 0.6937\n"
          ]
        }
      ]
    },
    {
      "cell_type": "code",
      "source": [
        "# 데이터 시각화\n",
        "y_vloss = history.history['val_loss']\n",
        "y_loss = history.history['loss']\n",
        "# 그래프로 표현\n",
        "x_len = np.arange(len(y_loss))\n",
        "plt.plot(x_len, y_vloss, marker='.', c='red', label='test_loss')\n",
        "plt.plot(x_len, y_loss, marker='.', c='blue', label='train_loss')\n",
        "plt.legend(loc='best')\n",
        "plt.grid()\n",
        "plt.xlabel('epoch')\n",
        "plt.ylabel('loss')\n",
        "plt.show(0)"
      ],
      "metadata": {
        "colab": {
          "base_uri": "https://localhost:8080/",
          "height": 881
        },
        "id": "IPIzE2QqnnCG",
        "outputId": "7cf98867-5665-483f-8429-6d24df6fc29a"
      },
      "execution_count": 25,
      "outputs": [
        {
          "output_type": "display_data",
          "data": {
            "text/plain": [
              "<Figure size 640x480 with 1 Axes>"
            ],
            "image/png": "[encoded data removed]"
          },
          "metadata": {}
        },
        {
          "output_type": "display_data",
          "data": {
            "text/plain": [
              "<Figure size 640x480 with 1 Axes>"
            ],
            "image/png": "[encoded data removed]"
          },
          "metadata": {}
        }
      ]
    },
    {
      "cell_type": "markdown",
      "source": [
        "LSTM / CNN 조합 >> IMDB 영화 리뷰 분류"
      ],
      "metadata": {
        "id": "IBq115bRrMP_"
      }
    },
    {
      "cell_type": "code",
      "source": [
        "# 데이터 불러오기\n",
        "\n",
        "(x_train, y_train), (x_test, y_test) = imdb.load_data(num_words=5000)"
      ],
      "metadata": {
        "id": "t_cCijAPrQl3"
      },
      "execution_count": 24,
      "outputs": []
    },
    {
      "cell_type": "code",
      "source": [
        "x_train = sequence.pad_sequences(x_train, maxlen=500)\n",
        "x_test = sequence.pad_sequences(x_test, maxlen=500)"
      ],
      "metadata": {
        "id": "ufTpHZFFrV2u"
      },
      "execution_count": 26,
      "outputs": []
    },
    {
      "cell_type": "code",
      "source": [
        "# 모델 구조 설정\n",
        "model = Sequential()\n",
        "model.add(Embedding(5000, 100))\n",
        "# Embedding(5000, 100) vocab size = 5000, 각 단어를 나타내는 임베딩 벡터 차원 (100차원)\n",
        "model.add(Dropout(0.5))\n",
        "\n",
        "model.add(Conv1D(64, 5, padding='valid', activation='relu'))\n",
        "# 64개 필터 개수, 5는 필터 크기\n",
        "# padding = 'valid' zero_padding 없이 convolution 통과한 출력 값 사용\n",
        "\n",
        "# CNN (Conv1D)\n",
        "model.add(MaxPooling1D(pool_size=4))\n",
        "# pool_size = 4 >> 4개 중 최대값 추출\n",
        "\n",
        "# LSTM\n",
        "model.add(LSTM(50))\n",
        "# LSTM 50개의 유닛 갯수\n",
        "\n",
        "model.add(Dense(1, activation='sigmoid'))\n",
        "model.summary()"
      ],
      "metadata": {
        "colab": {
          "base_uri": "https://localhost:8080/"
        },
        "id": "sr4UZFdqrin_",
        "outputId": "6df2bc8a-d44c-4ef9-bc0b-9e7b0be0b7b0"
      },
      "execution_count": 27,
      "outputs": [
        {
          "output_type": "stream",
          "name": "stdout",
          "text": [
            "Model: \"sequential_2\"\n",
            "_________________________________________________________________\n",
            " Layer (type)                Output Shape              Param #   \n",
            "=================================================================\n",
            " embedding_2 (Embedding)     (None, None, 100)         500000    \n",
            "                                                                 \n",
            " dropout (Dropout)           (None, None, 100)         0         \n",
            "                                                                 \n",
            " conv1d (Conv1D)             (None, None, 64)          32064     \n",
            "                                                                 \n",
            " max_pooling1d (MaxPooling1  (None, None, 64)          0         \n",
            " D)                                                              \n",
            "                                                                 \n",
            " lstm_1 (LSTM)               (None, 50)                23000     \n",
            "                                                                 \n",
            " dense_2 (Dense)             (None, 1)                 51        \n",
            "                                                                 \n",
            "=================================================================\n",
            "Total params: 555115 (2.12 MB)\n",
            "Trainable params: 555115 (2.12 MB)\n",
            "Non-trainable params: 0 (0.00 Byte)\n",
            "_________________________________________________________________\n"
          ]
        }
      ]
    },
    {
      "cell_type": "code",
      "source": [
        "'''\n",
        "(1) embedding_2 (Embedding)\n",
        "vocab_size = 5000(vocab_size) * 100(차원수) = 50,000\n",
        "(2) dropout (Dropout) 0.5 (50%) 정리. 너무 데이터 수가 많음\n",
        "(3) conv1d (Conv1D) 100(채널 개수입력 받음), 64(필터개수), 5(핕터크기\n",
        "- > (5 * 100)*64) + 64(bias) = 32064\n",
        "(4) maxpooling1d (MaxPooling1D) 0\n",
        "(5) lstm (LSTM)\n",
        "유닛 개수 50개\n",
        "입력 특징수 64\n",
        "파라미터 수 4 * (64+50+1) * 50 = 23000\n",
        "(6) dense (Dense) 50 * 1 + 1(bias)  = 51\n",
        "'''"
      ],
      "metadata": {
        "id": "xIG6IPdrsJoF"
      },
      "execution_count": null,
      "outputs": []
    }
  ]
}